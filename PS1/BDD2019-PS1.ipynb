{
 "cells": [
  {
   "cell_type": "markdown",
   "metadata": {},
   "source": [
    "# BDD Assignment #1\n",
    "\n",
    "The goal of this problem set is to replicate and extend the core results of  Jean et al.'s 2016 paper, \"Combining satellite imagery and machine learning to predict poverty.\" This problem set will be challenging and time-consuming, so I suggest you start immediately. Your first step should be to carefully read <a href=\"https://pdfs.semanticscholar.org/1b3a/c4b4187a3dbc9373869e7774b1dc63f748d2.pdf\">the original paper</a>  as well as the <a href=\"http://science.sciencemag.org/content/sci/suppl/2016/08/19/353.6301.790.DC1/Jean.SM.pdf\">supplementary materials</a>.\n",
    "\n",
    "For this assignment, we will focus on the country of Rwanda. You will need to download three distinct datasets, including DHS data, satellite data from the Google Maps API, as well as nighttime luminosity data. The DHS data requires registration (which can take several days to be approved), and the Google Maps API is rate-limited, so it will necessarily take you several days to download the requisite data, so make sure to **get started on those steps asap**. The deep learning section may also take several hours to compute (or days, if you have a slow computer), so don't save it until the last minute.\n",
    "\n",
    "## Overview of the problem set\n",
    "\n",
    "These are the key steps in the problem set:\n",
    "\n",
    "1. [Download satellite night lights images from NOAA](#step_1)\n",
    "2. [Download Rwandan DHS and construct cluster-level aggregates](#step_2)\n",
    "3. [Test whether night lights data can predict wealth, as observed in DHS](#step_3)\n",
    "4. [Download daytime satellite imagery from Google Maps](#step_4)\n",
    "5. [Test whether basic features of daytime imagery can predict wealth](#step_5)\n",
    "6. [*Optional*: Extract features from daytime imagery using deep learning libraries](#step_6)\n",
    "7. [*Optional*: Replicate final model and results of Jean et al (2016)](#step_7)\n",
    "8. [Construct a high-resolution map of the predicted wealth of Rwanda](#step_8)\n",
    "9. [Step back and interpret your results](#step_9)\n"
   ]
  },
  {
   "cell_type": "markdown",
   "metadata": {},
   "source": [
    "<a id='step_1'></a>"
   ]
  },
  {
   "cell_type": "markdown",
   "metadata": {},
   "source": [
    "# 1. Download satellite night lights images from NOAA\n",
    "\n",
    "- **INPUT**:\n",
    " - None\n",
    "- **OUTPUT**: \n",
    " - `F182010.v4d_web.stable_lights.avg_vis.tif`: Single image file giving nightlights intensity around the world\n",
    "\n",
    "Go to the [DMSP-OLS website](https://ngdc.noaa.gov/eog/dmsp/downloadV4composites.html) and download the satellite nighttime luminosity data (roughly 400MB). We will use the one from 2010. The archive they provide constains several files. Feel free to explore these files. We will only be using the file F182010.v4d_web.stable_lights.avg_vis.tif.\n",
    "\n",
    "A code snippet to get you started is below. Plot a map of nightlight luminosity in Rwanda."
   ]
  },
  {
   "cell_type": "markdown",
   "metadata": {},
   "source": [
    "<a id='step_2'></a>"
   ]
  },
  {
   "cell_type": "markdown",
   "metadata": {},
   "source": [
    "# 2. Download Rwandan DHS and construct cluster-level aggregates\n",
    "\n",
    "- **INPUT**: \n",
    "  - `rwanda_clusters_location.csv`: Coordinates of the centroid of each cluster\n",
    "- **OUTPUT**: \n",
    "  - `rwanda_cluster_avg_asset_2010.csv`: Comma-delimited file indicated average wealth of each cluster \n",
    "\n",
    "[Demographic and Health Surveys (DHS)](http://dhsprogram.com/What-We-Do/Survey-Types/DHS.cfm) are nationally-representative household surveys that provide data for a wide range of monitoring and impact evaluation indicators in the areas of population, health, and nutrition. For this assignment, you will need to download the [2010 Rwandan DHS data](http://dhsprogram.com/what-we-do/survey/survey-display-364.cfm). **This requires registration, so start early!** Do not forget to request for the GPS dataset. Make sure you understand the structure of the data before starting.\n",
    "\n",
    "Your immediate goal is to take the raw survey data, covering 12,540 households, and compute the average household wealth for each survey cluster (think of a cluster as a village). Refer to the file `Recode6_DHS_22March2013_DHSG4.pdf` for information on these data.\n",
    "\n",
    "Save your output as `rwanda_cluster_avg_asset_2010.csv` and check that it matches the file that we have provided. You will use this file as input to the next step in the assignment.\n",
    "\n",
    "Conduct some basic statistical analysis of these data, for instance to show the wealth distribution of rwanda (e.g., as a histogram). If you have time, create a map showing the spatial distribution of wealth of Rwanda, as calculated from the DHS. Intpret this analysis -- what have you learned about the distribution of wealth in Rwanda?\n",
    "\n",
    "Hints:\n",
    "- `Household Recode` contains all the attributes of each household. It provides datasets with different formats. Feel free to explore the data. You can use `RWHR61FL.DAT` file in Flat ASCII data (.dat) format.\n",
    "- `RWHR61FL.DCF` describes the attributes and the location of each attribute.\n",
    "- Geographic Datasets: `rwge61fl.zip` contains the location of each cluster in Rwanda. It is in the format of shapefile, which needs QGIS or other GIS softwares to open. For those who are not familiar with GIS tools or who want a shortcut, you can also sue the file `rwanda_clusters_location.csv` provided with the problem set."
   ]
  },
  {
   "cell_type": "markdown",
   "metadata": {},
   "source": [
    "For reference, the cluster locations, overlaid on the nightlights data, are shown in the figure below.\n",
    "<img src=\"figure/map1.png\" alt=\"Map\" style=\"width: 600px;\"/>"
   ]
  },
  {
   "cell_type": "markdown",
   "metadata": {},
   "source": [
    "\n",
    "*Replace this section with your observations and interpretation*\n"
   ]
  },
  {
   "cell_type": "markdown",
   "metadata": {},
   "source": [
    "<a id='step_3'></a>"
   ]
  },
  {
   "cell_type": "markdown",
   "metadata": {},
   "source": [
    "# 3. Test whether night lights data can predict wealth, as observed in DHS\n",
    "\n",
    "Now that you have \"ground truth\" measures of average cluster wealth, your goal is to understand whether the nightlights data can be used to predict wealth. First, merge the DHS and nightlights data, and then fit a model of wealth on nightlights.\n",
    "\n",
    "## 3.1 Merge nightlights and DHS data at cluster level\n",
    "- **INPUT**: \n",
    " - `F182010.v4d_web.stable_lights.avg_vis.tif`: Nightlights data, from Step 1\n",
    " - `rwanda_cluster_avg_asset_2010.csv`: DHS cluster averages, from Step 2\n",
    "- **OUTPUT**: Merged datasets\n",
    " - `DHS_nightlights.csv`: Merged dataset with 492 rows, and 6 columns (one indicates average cluster wealth, 5 nightlights features)\n",
    " - Scatterplot of nightlights vs. DHS wealth\n",
    "\n",
    "Perform a \"spatial join\" to compute the average nighttime luminosity for each of the DHS clusters. To do this, you should take the average of the luminosity values for the nightlights locations surrounding the cluster centroid.\n",
    "\n",
    "Save your output as `DHS_nightlights.csv` and check that it is the same as the file we have provided.\n",
    "\n",
    "Create a scatterplot showing the relationship between average cluster wealth (y-axis) and average nighttime luminosity (x-axis). Your scatterplot should have one dot for each of the 492 DHS clusters. Report the R^2 of the regression line.\n",
    "\n",
    "Hints:\n",
    " - The resolution of each pixel in the nightlight image is about 1km. Use 10 pixels X 10 pixels to average the luminosity of each cluster.\n",
    " - Start by just taking the **Mean** of the luminosity in the 100 pixels and comparing this to cluster average wealth. If you like, you could also compute other luminosity characteristics of each cluster, such as the **Max**, **Min**, **Standard Deviation** of the 100 pixel values, but this step is not required. Note that the file we provide (`DHS_nightlights.csv`) has these added features.\n",
    " - To read the raw raster (nightlights) files, we recommend using the GDAL library. Use `conda install gdal` to install the GDAL library. We have provided some helper code for this below."
   ]
  },
  {
   "cell_type": "code",
   "execution_count": 2,
   "metadata": {},
   "outputs": [],
   "source": [
    "import pandas as pd\n",
    "\n",
    "night = pd.read_csv('intermediate_files/DHS_nightlights.csv')"
   ]
  },
  {
   "cell_type": "code",
   "execution_count": 47,
   "metadata": {},
   "outputs": [],
   "source": [
    "import time\n",
    "import os\n",
    "import os.path\n",
    "import numpy as np\n",
    "from osgeo import gdal, ogr, osr\n",
    "from scipy import ndimage\n",
    "from scipy import misc\n",
    "#import cStringIO\n",
    "from io import StringIO\n",
    "gdal.UseExceptions()\n",
    "import matplotlib as mpl\n",
    "import matplotlib.pyplot as plt\n",
    "from matplotlib import gridspec\n",
    "%matplotlib inline\n",
    "import urllib\n",
    "\n",
    "# Helper function to read a raster file\n",
    "def read_raster(raster_file):\n",
    "    \"\"\"\n",
    "    Function\n",
    "    --------\n",
    "    read_raster\n",
    "\n",
    "    Given a raster file, get the pixel size, pixel location, and pixel value\n",
    "\n",
    "    Parameters\n",
    "    ----------\n",
    "    raster_file : string\n",
    "        Path to the raster file\n",
    "\n",
    "    Returns\n",
    "    -------\n",
    "    x_size : float\n",
    "        Pixel size\n",
    "    top_left_x_coords : numpy.ndarray  shape: (number of columns,)\n",
    "        Longitude of the top-left point in each pixel\n",
    "    top_left_y_coords : numpy.ndarray  shape: (number of rows,)\n",
    "        Latitude of the top-left point in each pixel\n",
    "    centroid_x_coords : numpy.ndarray  shape: (number of columns,)\n",
    "        Longitude of the centroid in each pixel\n",
    "    centroid_y_coords : numpy.ndarray  shape: (number of rows,)\n",
    "        Latitude of the centroid in each pixel\n",
    "    bands_data : numpy.ndarray  shape: (number of rows, number of columns, 1)\n",
    "        Pixel value\n",
    "    \"\"\"\n",
    "    raster_dataset = gdal.Open(raster_file, gdal.GA_ReadOnly)\n",
    "    # get project coordination\n",
    "    proj = raster_dataset.GetProjectionRef()\n",
    "    bands_data = []\n",
    "    # Loop through all raster bands\n",
    "    for b in range(1, raster_dataset.RasterCount + 1):\n",
    "        band = raster_dataset.GetRasterBand(b)\n",
    "        bands_data.append(band.ReadAsArray())\n",
    "        no_data_value = band.GetNoDataValue()\n",
    "    bands_data = np.dstack(bands_data)\n",
    "    rows, cols, n_bands = bands_data.shape\n",
    "\n",
    "\n",
    "    # Get the metadata of the raster\n",
    "    geo_transform = raster_dataset.GetGeoTransform()\n",
    "    (upper_left_x, x_size, x_rotation, upper_left_y, y_rotation, y_size) = geo_transform\n",
    "    \n",
    "    # Get location of each pixel\n",
    "    x_size = 1.0 / int(round(1 / float(x_size)))\n",
    "    y_size = - x_size\n",
    "    y_index = np.arange(bands_data.shape[0])\n",
    "    x_index = np.arange(bands_data.shape[1])\n",
    "    top_left_x_coords = upper_left_x + x_index * x_size\n",
    "    top_left_y_coords = upper_left_y + y_index * y_size\n",
    "    # Add half of the cell size to get the centroid of the cell\n",
    "    centroid_x_coords = top_left_x_coords + (x_size / 2)\n",
    "    centroid_y_coords = top_left_y_coords + (y_size / 2)\n",
    "\n",
    "    return (x_size, top_left_x_coords, top_left_y_coords, centroid_x_coords, centroid_y_coords, bands_data)"
   ]
  },
  {
   "cell_type": "code",
   "execution_count": 48,
   "metadata": {},
   "outputs": [],
   "source": [
    "# Helper function to get the pixel index of the point\n",
    "def get_cell_idx(lon, lat, top_left_x_coords, top_left_y_coords):\n",
    "    \"\"\"\n",
    "    Function\n",
    "    --------\n",
    "    get_cell_idx\n",
    "\n",
    "    Given a point location and all the pixel locations of the raster file,\n",
    "    get the column and row index of the point in the raster\n",
    "\n",
    "    Parameters\n",
    "    ----------\n",
    "    lon : float\n",
    "        Longitude of the point\n",
    "    lat : float\n",
    "        Latitude of the point\n",
    "    top_left_x_coords : numpy.ndarray  shape: (number of columns,)\n",
    "        Longitude of the top-left point in each pixel\n",
    "    top_left_y_coords : numpy.ndarray  shape: (number of rows,)\n",
    "        Latitude of the top-left point in each pixel\n",
    "    \n",
    "    Returns\n",
    "    -------\n",
    "    lon_idx : int\n",
    "        Column index\n",
    "    lat_idx : int\n",
    "        Row index\n",
    "    \"\"\"\n",
    "    lon_idx = np.where(top_left_x_coords < lon)[0][-1]\n",
    "    lat_idx = np.where(top_left_y_coords > lat)[0][-1]\n",
    "    return lon_idx, lat_idx"
   ]
  },
  {
   "cell_type": "code",
   "execution_count": 51,
   "metadata": {},
   "outputs": [],
   "source": [
    "# this illustrates how you can read the nightlight image\n",
    "raster_file = '/Users/cram/Documents/BerkleyClasses/Spring 19/Big Data & Dvp/bdd/PS1/data_objects/F182010.v4/F182010.v4d_web.stable_lights.avg_vis.tif'\n",
    "x_size, top_left_x_coords, top_left_y_coords, centroid_x_coords, centroid_y_coords, bands_data = read_raster(raster_file)\n",
    "\n",
    "# save the result in compressed format - see https://docs.scipy.org/doc/numpy/reference/generated/numpy.savez.html\n",
    "# np.savez('nightlight.npz', top_left_x_coords=top_left_x_coords, top_left_y_coords=top_left_y_coords, bands_data=bands_data)"
   ]
  },
  {
   "cell_type": "code",
   "execution_count": null,
   "metadata": {
    "collapsed": true
   },
   "outputs": [],
   "source": [
    "#\n",
    "# Your code here\n",
    "#"
   ]
  },
  {
   "cell_type": "markdown",
   "metadata": {},
   "source": [
    "## 3.2. Fit a model of wealth as a function of nightlights\n",
    "- **INPUT**: \n",
    " - `DHS_nightlights.csv`, from Step 3.1\n",
    "- **OUTPUT**: \n",
    " - R^2 of model\n",
    " \n",
    "Above, you fit a regression line to illustrate the relationship between cluster average wealth and corresponding cluster nightlights. Now, use [cross-validation](https://en.wikipedia.org/wiki/Cross-validation_%28statistics%29) to get a better sense of out of sample accuracy. Report the cross-validated accuracy (R^2); how does it compare to the accuracy you reported in 3.1? How do you interpret these differences?\n",
    "\n",
    "There are two options for this. The basic way, for those new to machine learning, is to randomly divide your dataset into a training and a test dataset. Randomly select 80% of your clusters and fit a model of cluster-average DHS wealth (your response/dependent variable) on nightlights (your predictor/independent variables). You can use a regression or any other model you prefer. Then, use that model to predict the wealth of the remaining 20% of your data, and compare the predicted values to the actual values, and report the R^2 on these 20%.\n",
    "\n",
    "The preferred way is to use 10-fold cross-validation, where you repeat the above procedure 10 times, so that you have 10 different and non-overlapping test sets. Then, you report the cross-validated R^2 of your model (i.e., the average R^2 of your 10 test folds).\n",
    "\n",
    "Hints:\n",
    " - The scikit learn library has built-in functions for [cross-validation](http://scikit-learn.org/stable/modules/cross_validation.html) that make this quite easy.\n",
    " \n"
   ]
  },
  {
   "cell_type": "markdown",
   "metadata": {},
   "source": [
    "\n",
    "*Replace this section with your observations and interpretation*\n"
   ]
  },
  {
   "cell_type": "markdown",
   "metadata": {},
   "source": [
    "<a id='step_4'></a>"
   ]
  },
  {
   "cell_type": "markdown",
   "metadata": {},
   "source": [
    "# 4. Download daytime satellite imagery \n",
    "- **INPUT**: \n",
    " - Google Maps API key\n",
    " - `Sector_Boundary_2012.shp`: Rwandan shapefile\n",
    "- **OUTPUT**: \n",
    " - Thousands of satellite images (store in directory `google_image/`)\n",
    "\n",
    "We will use the Google Static Maps API to download satellite images. Refer to the [Google Static Maps introduction](https://developers.google.com/maps/documentation/maps-static/dev-guide) and [Google Static Maps API Usage Limits](https://developers.google.com/maps/documentation/static-maps/usage-limits). You must apply for an API key before downloading. ** Note that it may take you several days to download the required images, so start early!**\n",
    "\n",
    "Download the images from Google at zoom level 16 (pixel resolution is about 2.5m). Set the image size to be 400 pixels X 400 pixels, so that each image you download will cover 1 square kilometer. In this way, each daytime image you download will correspond to a single pixel from the nighttime imagery from Step 1 above.\n",
    "\n",
    "Note: The Google Map API requires that you \"enable billing on each of your projects.\" Note that \"when you enable billing, you get \\$200 free usage every month for Maps, Routes, or Places. Based on the millions of users using our APIs today, most of them can continue to use Google Maps Platform for free with this credit.\" ([ref](https://cloud.google.com/maps-platform/user-guide/pricing-changes/)) For this problem set, you will need to download about 50,000 -- this costs about \\$100. So the \\$200 free usage every month should be enough, as long as you are careful :) Remember to set a budget alert to track how your spend is growing toward a particular amount ([ref](https://cloud.google.com/billing/docs/how-to/budgets)).\n",
    "\n",
    "Hints:\n",
    " - You will need to tell Google the locations for which you wish to download images. One way to do this is to use a [shapefiles](https://en.wikipedia.org/wiki/Shapefile) that specifies the borders of Rwanda. We have provided this shapefile (`Sector_Boundary_2012.shp`) as well as a helper function to read in the shapefile.\n",
    " - The function we provide below does not limit the maximum number of images downloaded per day. Note that if you attempt to  download more than the daily limit, Google will return blank images instead of an error.\n",
    " - You can organize the files however you like. However, for later analysis (Steps 6 and beyond), it may help if you organize these daytime images into 64 folders, with one folder indicating the nightlight intensity of the pixel corresponding to the daytime image. In other words, if you download a daytime image for which the corresponding nighttime pixel has value 32, store that daytime image in a folder labeled '32'. This way, all the satellite images within each folder will have the same nightlight intensity. The file name is columnIndex_rowIndex.jpg, in which row index and column index are the index in the nightlight image (See the diagram below)."
   ]
  },
  {
   "cell_type": "markdown",
   "metadata": {},
   "source": [
    "![title](figure/data_description.png)"
   ]
  },
  {
   "cell_type": "code",
   "execution_count": 52,
   "metadata": {},
   "outputs": [],
   "source": [
    "# Helper function to read a shapefile\n",
    "def get_shp_extent(shp_file):\n",
    "    \"\"\"\n",
    "    Function\n",
    "    --------\n",
    "    get_shp_extent\n",
    "\n",
    "    Given a shapefile, get the extent (boundaries)\n",
    "\n",
    "    Parameters\n",
    "    ----------\n",
    "    shp_file : string\n",
    "        Path to the shapefile\n",
    "    \n",
    "    Returns\n",
    "    -------\n",
    "    extent : tuple\n",
    "        Boundary location of the shapefile (x_min, y_min, x_max, y_max)\n",
    "    \"\"\"\n",
    "    import fiona\n",
    "    shape = fiona.open(shp_file)\n",
    "    extent = shape.bounds\n",
    "    return extent"
   ]
  },
  {
   "cell_type": "code",
   "execution_count": 53,
   "metadata": {},
   "outputs": [],
   "source": [
    "# Helper functions to download images from Google Maps API\n",
    "\n",
    "from retrying import retry\n",
    "\n",
    "# Stop after trying 10 time\n",
    "@retry(stop_max_attempt_number=10)\n",
    "def save_img(url, file_path, file_name):\n",
    "    \"\"\"\n",
    "    Function\n",
    "    --------\n",
    "    save_img\n",
    "\n",
    "    Given a url of the map, save the image\n",
    "\n",
    "    Parameters\n",
    "    ----------\n",
    "    url : string\n",
    "        URL of the map from Google Map Static API\n",
    "    file_path : string\n",
    "        Folder name of the map\n",
    "    file_name : string\n",
    "        File name\n",
    "    \n",
    "    Returns\n",
    "    -------\n",
    "    None\n",
    "    \"\"\"\n",
    "    a = urllib.request.urlopen(url).read()\n",
    "    b =  io.BytesIO(a)    \n",
    "#    image = ndimage.imread(b, mode='RGB')\n",
    "    image = mpl.pyplot.imread(b)\n",
    "\n",
    "    # when no image exists, api will return an image with the same color. \n",
    "    # and in the center of the image, it said'Sorry. We have no imagery here'.\n",
    "    # we should drop these images if large area of the image has the same color.\n",
    "    if np.array_equal(image[:,:10,:],image[:,10:20,:]):\n",
    "        pass\n",
    "    else:\n",
    "        misc.imsave(file_path + file_name, image[50:450, :, :])"
   ]
  },
  {
   "cell_type": "code",
   "execution_count": 55,
   "metadata": {},
   "outputs": [],
   "source": [
    "import io\n",
    "from io import StringIO\n",
    "import string\n",
    "import pandas as pd\n",
    "from pandas.compat import StringIO\n",
    "from collections import Counter\n",
    "\n",
    "try:\n",
    "    from StringIO import StringIO\n",
    "except ImportError:\n",
    "    from io import StringIO"
   ]
  },
  {
   "cell_type": "code",
   "execution_count": 56,
   "metadata": {},
   "outputs": [],
   "source": [
    "# Now read in the shapefile for Rwanda and extract the edges of the country\n",
    "inShapefile = \"provided/Sector_Boundary_2012/Sector_Boundary_2012.shp\"\n",
    "x_min_shp, y_min_shp, x_max_shp, y_max_shp = get_shp_extent(inShapefile)\n",
    "\n",
    "left_idx, top_idx = get_cell_idx(x_min_shp, y_max_shp, top_left_x_coords, top_left_y_coords)\n",
    "right_idx, bottom_idx = get_cell_idx(x_max_shp, y_min_shp, top_left_x_coords, top_left_y_coords)"
   ]
  },
  {
   "cell_type": "code",
   "execution_count": 57,
   "metadata": {
    "collapsed": true
   },
   "outputs": [
    {
     "ename": "NameError",
     "evalue": "name 'random' is not defined",
     "output_type": "error",
     "traceback": [
      "\u001b[0;31m---------------------------------------------------------------------------\u001b[0m",
      "\u001b[0;31mNameError\u001b[0m                                 Traceback (most recent call last)",
      "\u001b[0;32m<ipython-input-57-7e5266903c81>\u001b[0m in \u001b[0;36m<module>\u001b[0;34m\u001b[0m\n\u001b[1;32m     17\u001b[0m     \u001b[0;32mfor\u001b[0m \u001b[0mj\u001b[0m \u001b[0;32min\u001b[0m \u001b[0mrange\u001b[0m\u001b[0;34m(\u001b[0m\u001b[0mtop_idx\u001b[0m\u001b[0;34m,\u001b[0m \u001b[0mbottom_idx\u001b[0m \u001b[0;34m+\u001b[0m \u001b[0;36m1\u001b[0m\u001b[0;34m)\u001b[0m\u001b[0;34m:\u001b[0m\u001b[0;34m\u001b[0m\u001b[0;34m\u001b[0m\u001b[0m\n\u001b[1;32m     18\u001b[0m             \u001b[0;32mif\u001b[0m \u001b[0mm\u001b[0m \u001b[0;34m>\u001b[0m \u001b[0;36m49719\u001b[0m\u001b[0;34m:\u001b[0m\u001b[0;34m\u001b[0m\u001b[0;34m\u001b[0m\u001b[0m\n\u001b[0;32m---> 19\u001b[0;31m                 \u001b[0mkey\u001b[0m \u001b[0;34m=\u001b[0m \u001b[0mrandom\u001b[0m\u001b[0;34m.\u001b[0m\u001b[0mchoice\u001b[0m\u001b[0;34m(\u001b[0m\u001b[0mkeys\u001b[0m\u001b[0;34m)\u001b[0m\u001b[0;34m\u001b[0m\u001b[0;34m\u001b[0m\u001b[0m\n\u001b[0m\u001b[1;32m     20\u001b[0m \u001b[0;31m#            lon = -2\u001b[0m\u001b[0;34m\u001b[0m\u001b[0;34m\u001b[0m\u001b[0;34m\u001b[0m\u001b[0m\n\u001b[1;32m     21\u001b[0m \u001b[0;31m#            lat = 30\u001b[0m\u001b[0;34m\u001b[0m\u001b[0;34m\u001b[0m\u001b[0;34m\u001b[0m\u001b[0m\n",
      "\u001b[0;31mNameError\u001b[0m: name 'random' is not defined"
     ]
    }
   ],
   "source": [
    "# Now read in the shapefile for Rwanda and extract the edges of the country\n",
    "inShapefile = \"provided/Sector_Boundary_2012/Sector_Boundary_2012.shp\"\n",
    "x_min_shp, y_min_shp, x_max_shp, y_max_shp = get_shp_extent(inShapefile)\n",
    "\n",
    "left_idx, top_idx = get_cell_idx(x_min_shp, y_max_shp, top_left_x_coords, top_left_y_coords)\n",
    "right_idx, bottom_idx = get_cell_idx(x_max_shp, y_min_shp, top_left_x_coords, top_left_y_coords)\n",
    "\n",
    "m = 1\n",
    "\n",
    "keys = [key1, key2] #use the keys provided by the google API\n",
    "\n",
    "failed_requests = pd.DataFrame(columns=['url', 'm', 'i', 'j', 'lon', 'lat'])\n",
    "\n",
    "for i in range(left_idx, right_idx + 1):\n",
    "    for j in range(top_idx, bottom_idx + 1):\n",
    "            if m > 49719:\n",
    "                key = random.choice(keys)\n",
    "#            lon = -2\n",
    "#            lat = 30\n",
    "                lon = centroid_x_coords[i]\n",
    "                lat = centroid_y_coords[j]\n",
    "                print(lon, lat)\n",
    "                url = 'https://maps.googleapis.com/maps/api/staticmap?center=' + str(lat) + ',' + \\\n",
    "                       str(lon) + '&zoom=16&size=400x500&maptype=satellite&key=' + key\n",
    "                lightness = bands_data[j, i, 0]\n",
    "                file_path = 'google_image/' + str(lightness) + '/'\n",
    "                if not os.path.isdir(file_path):\n",
    "                    os.makedirs(file_path)\n",
    "                file_name = str(i) + '_' + str(j) +'.jpg'\n",
    "                try:\n",
    "                    save_img(url, file_path, file_name)\n",
    "                except:\n",
    "                    print('error, m rank: ')\n",
    "                    print(m)\n",
    "                    print(url)\n",
    "                    failed_requests.append({'url' : url,\n",
    "                                            'm' : m,\n",
    "                                            'i' : i,\n",
    "                                            'j' : j,\n",
    "                                            'lon' : lon,\n",
    "                                            'lat' : lat}, ignore_index=True)\n",
    "                if m % 100 == 0:\n",
    "                    print(m)\n",
    "                    print(lon, lat)\n",
    "            if m > 54000:\n",
    "                break\n",
    "            m += 1\n",
    "            \n",
    "print('Failed Requests:')\n",
    "# failed_requests = [3746, 3746, 53028, 52283, 50981]\n",
    "# m_max = 53136"
   ]
  },
  {
   "cell_type": "markdown",
   "metadata": {},
   "source": [
    "Here we define a dataframe called `correspondance_table` that maps each image path with it's coordinate, lighteness and indices in the for loop over the rectangular map. It will be further enriched by the features extracted in step 6 and 7."
   ]
  },
  {
   "cell_type": "code",
   "execution_count": 58,
   "metadata": {},
   "outputs": [],
   "source": [
    "# Now read in the shapefile for Rwanda and extract the edges of the country\n",
    "inShapefile = \"provided/Sector_Boundary_2012/Sector_Boundary_2012.shp\"\n",
    "x_min_shp, y_min_shp, x_max_shp, y_max_shp = get_shp_extent(inShapefile)\n",
    "\n",
    "left_idx, top_idx = get_cell_idx(x_min_shp, y_max_shp, top_left_x_coords, top_left_y_coords)\n",
    "right_idx, bottom_idx = get_cell_idx(x_max_shp, y_min_shp, top_left_x_coords, top_left_y_coords)\n",
    "\n",
    "m = 1\n",
    "\n",
    "row_dict = {}\n",
    "\n",
    "for i in range(left_idx, right_idx + 1):\n",
    "    for j in range(top_idx, bottom_idx + 1):\n",
    "            lon = centroid_x_coords[i]\n",
    "            lat = centroid_y_coords[j]\n",
    "            lightness = bands_data[j, i, 0]\n",
    "            file_name = str(i) + '_' + str(j) +'.jpg'\n",
    "            file_path = 'google_image/' + str(lightness) + '/' + file_name\n",
    "            row_dict[m] = pd.Series({\n",
    "                                    'i' : i,\n",
    "                                    'j' : j,\n",
    "                                    'lon' : lon,\n",
    "                                    'lat' : lat,\n",
    "                                    'lightness' : lightness,\n",
    "                                    'file_path' : file_path,\n",
    "                                    'file_name' : file_name})\n",
    "            m += 1\n",
    "            \n",
    "correspondance_table = pd.DataFrame(data = row_dict)\n",
    "correspondance_table = correspondance_table.transpose()\n",
    "correspondance_table.to_csv('image_correspondance_table.csv')"
   ]
  },
  {
   "cell_type": "markdown",
   "metadata": {},
   "source": [
    "# 5. Test whether basic features of daytime imagery can predict wealth\n",
    "In step 3, you tested whether nightlight imagery could predict the wealth of Rwandan villages. You will now test whether daytime imagery can predict village wealth. Start by extracting simple metrics from the daytime imagery; in step 6 you will use more sophsticated methods to engineer these features from the images. **You don't need to do this step if you are able to do step 6.**\n",
    "\n",
    "## 5.1. Extract \"basic\" features from daytime imagery\n",
    "- **INPUT**: \n",
    " - `google_image/...`: Raw images, from Step 4\n",
    "- **OUTPUT**: \n",
    " - `google_image_features_basic.csv`: Image features \n",
    "\n",
    "Convert the raw data from the satellite imagery into a set of features that can be used in a machine learning algorithm. A simple way to do this is to take the raw R/G/B values for each pixel and average them for the image. Thus, if an image has 100 pixels, you will have an average R value, an average G value, and an average B value. Create more features by also computing the min, max, median, and standard deviation of R, G, and B for each image. This process will convert each image into a vector of 15 features. Show three different histograms that indicate the distribution of average R/G/B values in your images.\n",
    "\n",
    "Feel free to be creative if you wish to generate additional features from the imagery -- this is similar to the process described in section 2.3 of the paper's supplementary materials. But don't waste too much time, and don't expect these features to be terribly useful."
   ]
  },
  {
   "cell_type": "code",
   "execution_count": null,
   "metadata": {},
   "outputs": [],
   "source": [
    "#\n",
    "# Your code here\n",
    "#"
   ]
  },
  {
   "cell_type": "markdown",
   "metadata": {},
   "source": [
    "## 5.2. Merge daytime images with DHS data\n",
    "\n",
    "- **INPUT**: \n",
    " - `google_image_features_basic.csv`: Satellite imagery features, from Step 5.1\n",
    " - `rwanda_cluster_avg_asset_2010.csv`: DHS cluster averages, from Step 2\n",
    "- **OUTPUT**: Merged datasets\n",
    " - `data/model/DHS_daytime.csv`: Merged dataset with 492 rows, and 16 columns (one indicates average cluster wealth, 15 daytime image features)\n",
    "\n",
    "Now that you have feature vectors for each image, you should merge these with the DHS data indicating average cluster wealth. Follow a similar procedure as you did with 3.1, i.e., determine which image feature vectors are associated with each cluster, and then calculate, for each cluster, the average value of each feature. \n",
    "\n",
    "Save your output as `DHS_daytime.csv` and check that it is roughly the same as the file we have provided. There may be slight differences if you chose to calculate a different set of features than those described in 5.1.\n",
    "\n",
    " - Show three histograms of the distribution of R/G/B values of the average cluster image features (in other words, each histogram should contain 492 points).\n",
    " - Create three scatterplots (one for each of the R/G/B channels) that shows how average color intensity of the cluster (x-axis) relates to average cluster wealth (y-axis). What do you observe?"
   ]
  },
  {
   "cell_type": "code",
   "execution_count": null,
   "metadata": {},
   "outputs": [],
   "source": [
    "#\n",
    "# Your code here\n",
    "#"
   ]
  },
  {
   "cell_type": "markdown",
   "metadata": {},
   "source": [
    "\n",
    "*Replace this section with your observations and interpretation*\n"
   ]
  },
  {
   "cell_type": "markdown",
   "metadata": {},
   "source": [
    "## 5.3. Fit a model of wealth as a function of basic daytime features\n",
    "- **INPUT**: \n",
    " - `data/model/DHS_daytime.csv`, from Step 5.2\n",
    "- **OUTPUT**: \n",
    " - R^2 of model\n",
    " \n",
    "As in 3.2, use 10-fold cross-validation to fit a model of cluster-level DHS wealth (your response/dependent variable) as a function of the nightlights data (your predictor/independent variables). Since you have a reasonably large number of predictor variables, you should use a model that incorporates some form of regularization (e.g., ridge regression, lasso regression, or a tree-based method).  Report the cross-validated R^2 of your model (i.e., the average R^2 of your 10 test folds).\n",
    "\n",
    "How does this model's performance compare to that of the nightlights model? Can you think of any other ways (aside from deep learning) that you might use to improve the features being extracted from daytime imagery, which might improve the predictive performance of your model?\n",
    "\n",
    "*Note:* Even if you do not choose to do parts 6-7, make sure you do parts 8 and 9!"
   ]
  },
  {
   "cell_type": "code",
   "execution_count": null,
   "metadata": {},
   "outputs": [],
   "source": [
    "#\n",
    "# Your code here\n",
    "#"
   ]
  },
  {
   "cell_type": "markdown",
   "metadata": {},
   "source": [
    "\n",
    "*Replace this section with your observations and interpretation*\n"
   ]
  },
  {
   "cell_type": "markdown",
   "metadata": {},
   "source": [
    "<a id='step_6'></a>"
   ]
  },
  {
   "cell_type": "markdown",
   "metadata": {},
   "source": [
    "# 6. *Optional*: Use deep learning to extract fancier features\n",
    "\n",
    "This is where things get interesting. You will use existing libraries to extract more meaningful features from the daytime imagery, similar to what is shown in Fig. 2 of the paper.\n",
    "\n",
    "## 6.1. Use the keras library to use a basic CNN to extract features of the daytime images \n",
    " \n",
    "- **INPUT**: \n",
    " - `google_image/...`: Raw images, from Step 4\n",
    "- **OUTPUT**: \n",
    " - `google_image_features_cnn.csv`: Image features \n",
    "\n",
    "Begin by using a Convolutional Neural Network that has been pre-trained on ImageNet to extract features from the images. We recommend using the [`Keras` library](https://keras.io/), which provides a very straightforward interface to [TensorFlow](https://www.tensorflow.org/).\n",
    "\n",
    "Hints:\n",
    " - This [short intro](https://github.com/fchollet/deep-learning-models/blob/master/README.md) will help you get started with extracting features from the CNN."
   ]
  },
  {
   "cell_type": "code",
   "execution_count": 128,
   "metadata": {},
   "outputs": [],
   "source": [
    "from keras.applications.resnet50 import ResNet50\n",
    "from keras.applications.vgg16 import VGG16\n",
    "from keras.applications.vgg19 import VGG19\n",
    "from keras.preprocessing import image\n",
    "from keras.applications.resnet50 import preprocess_input, decode_predictions\n",
    "from keras.models import Model"
   ]
  },
  {
   "cell_type": "markdown",
   "metadata": {},
   "source": [
    "We use a VGG16 architecture, trained on imagenet:"
   ]
  },
  {
   "cell_type": "code",
   "execution_count": 129,
   "metadata": {},
   "outputs": [],
   "source": [
    "base_model = VGG16(weights='imagenet')\n"
   ]
  },
  {
   "cell_type": "code",
   "execution_count": 119,
   "metadata": {
    "collapsed": true
   },
   "outputs": [
    {
     "name": "stdout",
     "output_type": "stream",
     "text": [
      "0 input_1 (None, 224, 224, 3)\n",
      "1 block1_conv1 (None, 224, 224, 64)\n",
      "2 block1_conv2 (None, 224, 224, 64)\n",
      "3 block1_pool (None, 112, 112, 64)\n",
      "4 block2_conv1 (None, 112, 112, 128)\n",
      "5 block2_conv2 (None, 112, 112, 128)\n",
      "6 block2_pool (None, 56, 56, 128)\n",
      "7 block3_conv1 (None, 56, 56, 256)\n",
      "8 block3_conv2 (None, 56, 56, 256)\n",
      "9 block3_conv3 (None, 56, 56, 256)\n",
      "10 block3_pool (None, 28, 28, 256)\n",
      "11 block4_conv1 (None, 28, 28, 512)\n",
      "12 block4_conv2 (None, 28, 28, 512)\n",
      "13 block4_conv3 (None, 28, 28, 512)\n",
      "14 block4_pool (None, 14, 14, 512)\n",
      "15 block5_conv1 (None, 14, 14, 512)\n",
      "16 block5_conv2 (None, 14, 14, 512)\n",
      "17 block5_conv3 (None, 14, 14, 512)\n",
      "18 block5_pool (None, 7, 7, 512)\n",
      "19 flatten (None, 25088)\n",
      "20 fc1 (None, 4096)\n",
      "21 fc2 (None, 4096)\n",
      "22 predictions (None, 1000)\n"
     ]
    }
   ],
   "source": [
    "for i, layer in enumerate(base_model.layers):\n",
    "    print(i, layer.name, layer.output_shape)"
   ]
  },
  {
   "cell_type": "markdown",
   "metadata": {},
   "source": [
    "We get rid of the predicition layer to keep the before last layer named 'fc2' as output:"
   ]
  },
  {
   "cell_type": "code",
   "execution_count": 120,
   "metadata": {},
   "outputs": [],
   "source": [
    "model = Model(inputs=base_model.input, outputs=base_model.get_layer('fc2').output)"
   ]
  },
  {
   "cell_type": "markdown",
   "metadata": {},
   "source": [
    "To calculate the wealth of each cluster, we use a rectangle of 100 image around it. But many images are not part of the surronding rectangle of any cluster, they are therefor useless. To avoid unnecessary computation, we list the image indexes that are actually useful, `useful_indexes`.\n",
    "\n",
    "We find that a radius of 0.042 in longitude and latitude corresponds to 10km square, or 100 images around each cluster."
   ]
  },
  {
   "cell_type": "code",
   "execution_count": 126,
   "metadata": {},
   "outputs": [
    {
     "data": {
      "text/plain": [
       "22739"
      ]
     },
     "execution_count": 126,
     "metadata": {},
     "output_type": "execute_result"
    }
   ],
   "source": [
    "useful_indexes = np.empty(shape = 1)\n",
    "radius = 0.042\n",
    "\n",
    "for i in cluster_wealth.index:\n",
    "    centroid_lon = cluster_wealth.loc[i].longitude\n",
    "    centroid_lat = cluster_wealth.loc[i].latitude\n",
    "\n",
    "    to_add = correspondance_table[(abs(correspondance_table.lon - centroid_lon) < radius) &\n",
    "                                        (abs(correspondance_table.lat - centroid_lat) < radius)].index\n",
    "    useful_indexes = np.append(useful_indexes, to_add)\n",
    "    \n",
    "useful_indexes = {x for x in set(useful_indexes) if x==x}\n",
    "\n",
    "\n",
    "len(useful_indexes)"
   ]
  },
  {
   "cell_type": "markdown",
   "metadata": {},
   "source": [
    "We find that out of the 53000 images, about 23000 are usefull."
   ]
  },
  {
   "cell_type": "markdown",
   "metadata": {},
   "source": [
    "We can now **extract a feature vector from each image using the VGG16 model**. We store this feature in vector in `correspondance_table`. We only compute for indexes in `useful_indexes`:"
   ]
  },
  {
   "cell_type": "code",
   "execution_count": null,
   "metadata": {},
   "outputs": [],
   "source": [
    "from timeit import default_timer as timer\n",
    "\n",
    "start = timer()\n",
    "\n",
    "for index, row in correspondance_table.iterrows():\n",
    "    if index in useful_indexes:\n",
    "        # if the feature is not already in the table\n",
    "        if np.isnan(correspondance_table.VGG16_224_features.loc[index]).any():\n",
    "            if index < 3:\n",
    "                try:\n",
    "                    img_path = row.file_path    \n",
    "                    img = image.load_img(img_path, target_size=(224, 224)) # original images are 400*400\n",
    "                    x = image.img_to_array(img)\n",
    "                    x = np.expand_dims(x, axis=0)\n",
    "                    x = preprocess_input(x)\n",
    "                    x_features = model.predict(x)\n",
    "                    pdb.set_trace()\n",
    "                    correspondance_table['VGG16_224_features'].loc[index] = x_features\n",
    "                except:\n",
    "                    pass\n",
    "\n",
    "    # print progress\n",
    "    if index % 1000 == 0:\n",
    "        print('Index: ', str(index), ' - Time Elapsed: ', str(round((timer() - start) / 60, 2)), 'min') \n",
    "    # save progress\n",
    "    if index % 10000 == 0:\n",
    "        correspondance_table.to_pickle('image_features_table.pkl')\n",
    "#        pass\n",
    "\n",
    "    \n",
    "correspondance_table.to_pickle('image_features_table.pkl')\n"
   ]
  },
  {
   "cell_type": "code",
   "execution_count": 810,
   "metadata": {},
   "outputs": [],
   "source": [
    "correspondance_table['VGG16_224_features'].to_pickle('google_image_features_cnn.pkl')"
   ]
  },
  {
   "cell_type": "markdown",
   "metadata": {},
   "source": [
    "# 6.2. Test whether these new features of satellite imagery can predict wealth\n",
    "- **INPUT**: \n",
    " - `google_image_features_cnn.csv`: Satellite imagery features, from Step 6.1\n",
    " - `rwanda_cluster_avg_asset_2010.csv`: DHS cluster averages, from Step 2\n",
    "- **OUTPUT**: \n",
    " - `data/model/DHS_daytime.csv`: Merged dataset with 492 rows, and 4097 columns (one indicates average cluster wealth, 4096 CNN-based features)\n",
    " - R^2 of model\n",
    " \n",
    "Calculate the average value of each feature for each of the DHS clusters. As in Step 3.1 and 5.2, you will want to aggregate over images near the cluster centroid by taking the average value for each feature. Create a scatterplot showing the relationship between average cluster wealth (y-axis) and the first principal component of all of your image features (x-axis) - in other words, run PCA on your 4096 image features and plot the first PC on the x-axis. Your scatterplot should have one dot for each of the 492 DHS clusters.\n",
    "\n",
    "Use 10-fold cross-validation to fit a model of cluster-level DHS wealth (your response/dependent variable) as a function of the \"deep\" features (your predictor/independent variables). Use a model that incorporates some form of regularization (e.g., ridge regression, lasso regression, or a tree-based method).  Report the cross-validated R^2 of your model (i.e., the average R^2 of your 10 test folds)."
   ]
  },
  {
   "cell_type": "code",
   "execution_count": 130,
   "metadata": {},
   "outputs": [],
   "source": [
    "# get the lon/lat to cluster correspondance\n",
    "\n",
    "gps_to_cluster = pd.read_csv('data_objects/gps_to_cluster.csv')\n",
    "gps_to_cluster = gps_to_cluster.drop(gps_to_cluster.columns[0], axis=1)"
   ]
  },
  {
   "cell_type": "code",
   "execution_count": 482,
   "metadata": {},
   "outputs": [],
   "source": [
    "cluster_wealth = pd.read_csv('data_objects/rwanda_cluster_avg_asset_2010_CN.csv')\n",
    "cluster_wealth.index = cluster_wealth.cluster\n",
    "cluster_wealth = cluster_wealth.drop('cluster', axis = 1)"
   ]
  },
  {
   "cell_type": "code",
   "execution_count": 576,
   "metadata": {},
   "outputs": [],
   "source": [
    "cluster_nightlights = pd.read_csv('intermediate_files/DHS_nightlights.csv')\n",
    "cluster_nightlights.index = cluster_nightlights.id\n",
    "cluster_nightlights.index.name = 'cluster'\n"
   ]
  },
  {
   "cell_type": "markdown",
   "metadata": {},
   "source": [
    "Build the feature vector for each cluster by averaging over the CNN vectors of the 100 images surronding the centroid:"
   ]
  },
  {
   "cell_type": "code",
   "execution_count": 491,
   "metadata": {},
   "outputs": [],
   "source": [
    "def get_cluster_feature_vector(cluster_wealth_row,\n",
    "                               correspondance_table = correspondance_table,\n",
    "                               col_name = 'VGG16_transfer',\n",
    "                               radius = 0.042): # corresponds to 100 images per cluster\n",
    "    centroid_lon = cluster_wealth_row.longitude\n",
    "    centroid_lat = cluster_wealth_row.latitude\n",
    "    features_set = correspondance_table[(abs(correspondance_table.lon - centroid_lon) < radius) &\n",
    "                                        (abs(correspondance_table.lat - centroid_lat) < radius)]\n",
    "    n_samples = features_set.shape[0]\n",
    "    if n_samples!= 100:\n",
    "        print('n_sample not 100: ', n_samples, 'for cluster ', cluster_wealth_row.index)\n",
    "    if col_name == 'VGG16_transfer':\n",
    "        res =  pd.Series(features_set[col_name].mean())\n",
    "    if col_name == 'VGG16_224_features':\n",
    "        res =  pd.Series(features_set[col_name].mean()[0])\n",
    "    res.name = 'c' + str(cluster_wealth_row.index)\n",
    "    return res\n",
    "    "
   ]
  },
  {
   "cell_type": "markdown",
   "metadata": {},
   "source": [
    "`cluster_features` is a dataframe with the average CNN features for each cluster:"
   ]
  },
  {
   "cell_type": "code",
   "execution_count": null,
   "metadata": {},
   "outputs": [],
   "source": [
    "cluster_features = cluster_wealth.apply(get_cluster_feature_vector, axis = 1)"
   ]
  },
  {
   "cell_type": "markdown",
   "metadata": {},
   "source": [
    "Let's keep the 5 first features of the PCA for now, accounting for 70% of the variation:"
   ]
  },
  {
   "cell_type": "code",
   "execution_count": 812,
   "metadata": {},
   "outputs": [
    {
     "data": {
      "text/plain": [
       "0.6926728375051223"
      ]
     },
     "execution_count": 812,
     "metadata": {},
     "output_type": "execute_result"
    }
   ],
   "source": [
    "from sklearn.decomposition import PCA\n",
    "\n",
    "pca_vgg = PCA(n_components=5)\n",
    "pca_vgg.fit(cluster_features)\n",
    "\n",
    "VGG_PCA_top5 = pd.DataFrame(pca_vgg.transform(cluster_features),\n",
    "                            index = cluster_wealth.index)\n",
    "\n",
    "pca_vgg.explained_variance_ratio_.sum()"
   ]
  },
  {
   "cell_type": "markdown",
   "metadata": {},
   "source": [
    "### PCA first component plot "
   ]
  },
  {
   "cell_type": "code",
   "execution_count": 814,
   "metadata": {},
   "outputs": [
    {
     "data": {
      "text/plain": [
       "Text(0, 0.5, 'Weath Index of the cluster')"
      ]
     },
     "execution_count": 814,
     "metadata": {},
     "output_type": "execute_result"
    },
    {
     "data": {
      "image/png": "[encoded data removed]",
      "text/plain": [
       "<Figure size 432x288 with 1 Axes>"
      ]
     },
     "metadata": {
      "needs_background": "light"
     },
     "output_type": "display_data"
    }
   ],
   "source": [
    "data_index = reduced_features.index\n",
    "\n",
    "plt.scatter(VGG_PCA_top5[0], labels)\n",
    "plt.title(\"Using VGG as a feature extractor to predict cluster wealth\")\n",
    "plt.xlabel(\"Principal Component of the feature set, averaged over the whole cluster\")\n",
    "plt.ylabel(\"Weath Index of the cluster\")"
   ]
  },
  {
   "cell_type": "markdown",
   "metadata": {},
   "source": [
    "**We notice that the first component (and actually, all components) separate rather well the cluster points for high wealth indexes, but the discrimination power in weak for wealth indexes below 5.** This means that the predicition power of our model will most likely be poor for less wealthy clusters."
   ]
  },
  {
   "cell_type": "markdown",
   "metadata": {},
   "source": [
    "We use grid search to **optimize the regularization hyperparameter parameter with 10-fold cross validation**, and find our Rˆ2 score:"
   ]
  },
  {
   "cell_type": "code",
   "execution_count": 822,
   "metadata": {},
   "outputs": [
    {
     "name": "stdout",
     "output_type": "stream",
     "text": [
      "Best Hyperparameter:  {'alpha': 0.11}\n",
      "Rˆ2 score:  0.456\n"
     ]
    },
    {
     "name": "stderr",
     "output_type": "stream",
     "text": [
      "/anaconda3/lib/python3.7/site-packages/sklearn/model_selection/_search.py:841: DeprecationWarning: The default of the `iid` parameter will change from True to False in version 0.22 and will be removed in 0.24. This will change numeric results when test-set sizes are unequal.\n",
      "  DeprecationWarning)\n"
     ]
    }
   ],
   "source": [
    "from sklearn.model_selection import GridSearchCV\n",
    "from sklearn.linear_model import Ridge\n",
    "\n",
    "ridge_model = Ridge(normalize = True)\n",
    "\n",
    "alpha_range = [0.01 * i for i in range (1, 100, 5)]\n",
    "param_grid = {'alpha' : alpha_range}\n",
    "\n",
    "\n",
    "grid_search = GridSearchCV(ridge_model, \n",
    "                           param_grid = param_grid,\n",
    "                           cv=10, # 10-fold cross validation\n",
    "                           return_train_score = True)\n",
    "\n",
    "grid_search.fit(reduced_features, cluster_wealth.wlthindf)\n",
    "print('Best Hyperparameter: ', grid_search.best_params_)\n",
    "print('Rˆ2 score: ', round(grid_search.score(reduced_features, cluster_wealth.wlthindf), 3))"
   ]
  },
  {
   "cell_type": "markdown",
   "metadata": {},
   "source": [
    "We get a Rˆ2 score of 0.456 with the daytime features extracted using the CNN."
   ]
  },
  {
   "cell_type": "code",
   "execution_count": null,
   "metadata": {},
   "outputs": [],
   "source": []
  },
  {
   "cell_type": "code",
   "execution_count": 826,
   "metadata": {},
   "outputs": [
    {
     "data": {
      "text/plain": [
       "Text(0, 0.5, 'Actual Weath Index (DHS)')"
      ]
     },
     "execution_count": 826,
     "metadata": {},
     "output_type": "execute_result"
    },
    {
     "data": {
      "image/png": "[encoded data removed]",
      "text/plain": [
       "<Figure size 432x288 with 1 Axes>"
      ]
     },
     "metadata": {
      "needs_background": "light"
     },
     "output_type": "display_data"
    }
   ],
   "source": [
    "data_index = train\n",
    "plt.scatter(labels.iloc[data_index], model.predict(features.iloc[data_index]))\n",
    "\n",
    "data_index = test\n",
    "plt.scatter(labels.iloc[data_index], model.predict(features.iloc[data_index]))\n",
    "\n",
    "plt.title('Comparing Prediction on train (blue) and test (orange) set')\n",
    "plt.xlabel('Predicted Weath Index')\n",
    "plt.ylabel('Actual Weath Index (DHS)')"
   ]
  },
  {
   "cell_type": "markdown",
   "metadata": {},
   "source": [
    "The two distributions are similar, which confirms that we dont overfit."
   ]
  },
  {
   "cell_type": "code",
   "execution_count": 827,
   "metadata": {
    "collapsed": true
   },
   "outputs": [
    {
     "name": "stderr",
     "output_type": "stream",
     "text": [
      "/anaconda3/lib/python3.7/site-packages/ipykernel_launcher.py:3: FutureWarning: \n",
      "Passing list-likes to .loc or [] with any missing label will raise\n",
      "KeyError in the future, you can use .reindex() as an alternative.\n",
      "\n",
      "See the documentation here:\n",
      "https://pandas.pydata.org/pandas-docs/stable/indexing.html#deprecate-loc-reindex-listlike\n",
      "  This is separate from the ipykernel package so we can avoid doing imports until\n",
      "/anaconda3/lib/python3.7/site-packages/ipykernel_launcher.py:5: FutureWarning: \n",
      "Passing list-likes to .loc or [] with any missing label will raise\n",
      "KeyError in the future, you can use .reindex() as an alternative.\n",
      "\n",
      "See the documentation here:\n",
      "https://pandas.pydata.org/pandas-docs/stable/indexing.html#deprecate-loc-reindex-listlike\n",
      "  \"\"\"\n"
     ]
    },
    {
     "data": {
      "text/plain": [
       "<matplotlib.axes._subplots.AxesSubplot at 0x1ac5d3a630>"
      ]
     },
     "execution_count": 827,
     "metadata": {},
     "output_type": "execute_result"
    },
    {
     "data": {
      "image/png": "[encoded data removed]",
      "text/plain": [
       "<Figure size 1080x576 with 2 Axes>"
      ]
     },
     "metadata": {
      "needs_background": "light"
     },
     "output_type": "display_data"
    }
   ],
   "source": [
    "indexes = train\n",
    "\n",
    "features.loc[indexes].plot.scatter(x = features.columns[0], \n",
    "                                   y = features.columns[1], \n",
    "                                   c = labels.loc[indexes],\n",
    "                                   figsize=(15,8),\n",
    "                                   colormap = 'bwr')\n"
   ]
  },
  {
   "cell_type": "markdown",
   "metadata": {},
   "source": [
    "<a id='step_7'></a>"
   ]
  },
  {
   "cell_type": "markdown",
   "metadata": {},
   "source": [
    "# 7. *Optional:* Replicate the transfer learning results of Jean et al (2016)\n",
    "\n",
    "The only thing missing at this point is the \"transfer learning\" step. In other words, instead of using the image features extracted by the CNN directly, we want to retrain the CNN to predict nightlights from daytime imagery, and use those features, which presumably are more appropriate to our final prediction task.\n",
    "\n",
    "## 7.1. Use the nightlights to retrain the CNN and extract features\n",
    "\n",
    "- **INPUT**: \n",
    " - `google_image/...`: Raw images, from Step 4\n",
    "- **OUTPUT**: \n",
    " - `google_image_features_cnn_retrained.csv`: Image features \n",
    "\n",
    "Following the approach used in the paper, first divide your daytime images into three groups, corresponding to images where the corresponding night-lights pixel is dim, medium, or bright. Use these values to define your groups: [0, 3), [3, 35), [35, 64). We have given you the code to do this below."
   ]
  },
  {
   "cell_type": "markdown",
   "metadata": {},
   "source": [
    "### Modify a VGG16 infrastructure into fine-tunable 3 class classifier"
   ]
  },
  {
   "cell_type": "code",
   "execution_count": 373,
   "metadata": {},
   "outputs": [],
   "source": [
    "from keras import models\n",
    "from keras import layers\n",
    "from keras import optimizers\n",
    "from keras.preprocessing.image import ImageDataGenerator\n",
    "\n",
    "\n",
    "base_model = VGG16(weights='imagenet', \n",
    "                   include_top=False, \n",
    "                   input_shape = (224,224,3))\n",
    "\n",
    "# Freeze all the layers\n",
    "for layer in base_model.layers:\n",
    "    layer.trainable = False"
   ]
  },
  {
   "cell_type": "markdown",
   "metadata": {},
   "source": [
    "Add a dense layer and a final 3-class classification layer:"
   ]
  },
  {
   "cell_type": "code",
   "execution_count": 375,
   "metadata": {},
   "outputs": [],
   "source": [
    "model = models.Sequential()\n",
    "\n",
    "model.add(base_model)\n",
    "model.add(layers.Flatten())\n",
    "model.add(layers.Dense(1024, activation='relu'))\n",
    "model.add(layers.Dropout(0.5))\n",
    "model.add(layers.Dense(3, activation='softmax'))"
   ]
  },
  {
   "cell_type": "markdown",
   "metadata": {},
   "source": [
    "### Prepare the training data"
   ]
  },
  {
   "cell_type": "markdown",
   "metadata": {},
   "source": [
    "Using a bash command, we place the images into 3 folders depending on the nightlight luminosity level, as described in the instructions [0, 3), [3, 35), [35, 64)\n",
    "These folders are place into a parent folder called `image_triage`\n",
    "\n",
    "To reduce the computational complexity, we reduce the images from 400 x 400 to 224 x 224 "
   ]
  },
  {
   "cell_type": "code",
   "execution_count": 378,
   "metadata": {},
   "outputs": [
    {
     "name": "stdout",
     "output_type": "stream",
     "text": [
      "Found 43037 images belonging to 3 classes.\n",
      "Found 10093 images belonging to 3 classes.\n"
     ]
    }
   ],
   "source": [
    "data_dir = '/Users/cram/image_triage' # path to image_triage\n",
    "\n",
    "train_datagen = ImageDataGenerator(rescale=1/224,\n",
    "                                   validation_split=0.19)\n",
    "\n",
    "\n",
    "# Gnerate the train and test data for the model\n",
    "\n",
    "train_generator = train_datagen.flow_from_directory(\n",
    "        data_dir,\n",
    "        target_size=(224, 224),\n",
    "        batch_size= 43,\n",
    "        shuffle=True,\n",
    "        class_mode='categorical',\n",
    "        subset='training')\n",
    "\n",
    "\n",
    "validation_generator = train_datagen.flow_from_directory(\n",
    "        data_dir,\n",
    "        target_size=(224, 224),\n",
    "        batch_size= 10,\n",
    "        shuffle=True,\n",
    "        class_mode='categorical',\n",
    "        subset='validation')"
   ]
  },
  {
   "cell_type": "markdown",
   "metadata": {},
   "source": [
    "### Train the New Model to Predict Nightlight Intensity from Daytime Images"
   ]
  },
  {
   "cell_type": "code",
   "execution_count": 382,
   "metadata": {},
   "outputs": [],
   "source": [
    "rms = optimizers.RMSprop(lr=0.005, rho=0.9, epsilon=None, decay=0.0)\n",
    "\n",
    "\n",
    "model.compile(optimizer=rms, loss='categorical_crossentropy')"
   ]
  },
  {
   "cell_type": "code",
   "execution_count": 383,
   "metadata": {},
   "outputs": [
    {
     "name": "stdout",
     "output_type": "stream",
     "text": [
      "Epoch 1/1\n",
      "1000/1000 [==============================] - 24172s 24s/step - loss: 0.5730 - val_loss: 0.5701\n"
     ]
    }
   ],
   "source": [
    "history = model.fit_generator(\n",
    "      train_generator,\n",
    "      steps_per_epoch=1000,   #train_generator.samples/train_generator.batch_size ,\n",
    "      epochs=1,\n",
    "      validation_data=validation_generator,\n",
    "      validation_steps=validation_generator.samples/validation_generator.batch_size,\n",
    "      verbose=1)\n",
    "\n",
    "model.save('first_attempt.h5')"
   ]
  },
  {
   "cell_type": "markdown",
   "metadata": {},
   "source": [
    "The first epoch took 6h to run. We'll keep it there, but we would want to train it more if possible."
   ]
  },
  {
   "cell_type": "markdown",
   "metadata": {},
   "source": [
    "### Remove the last classification layer and use the fine-tuned model as a feature extractor\n",
    "\n",
    "The features are stored in `correspondance_table` with the rest of the features from the default VGG"
   ]
  },
  {
   "cell_type": "code",
   "execution_count": 386,
   "metadata": {
    "collapsed": true
   },
   "outputs": [
    {
     "name": "stdout",
     "output_type": "stream",
     "text": [
      "vgg16  -  (None, 7, 7, 512)\n",
      "flatten_5  -  (None, 25088)\n",
      "dense_11  -  (None, 1024)\n",
      "dropout_4  -  (None, 1024)\n",
      "dense_12  -  (None, 3)\n"
     ]
    }
   ],
   "source": [
    "for i in model.layers:\n",
    "    print(i.name, ' - ', i.output_shape)"
   ]
  },
  {
   "cell_type": "code",
   "execution_count": 416,
   "metadata": {},
   "outputs": [],
   "source": [
    "feature_extractor = Model(inputs=model.input, outputs=model.get_layer('dense_11').output)"
   ]
  },
  {
   "cell_type": "code",
   "execution_count": 472,
   "metadata": {
    "collapsed": true
   },
   "outputs": [
    {
     "name": "stdout",
     "output_type": "stream",
     "text": [
      "Index:  2358 , counter  199  - Time Elapsed:  1.52 min\n",
      "Index:  3440 , counter  398  - Time Elapsed:  2.98 min\n",
      "Index:  4482 , counter  597  - Time Elapsed:  4.43 min\n",
      "Index:  5369 , counter  796  - Time Elapsed:  5.85 min\n",
      "Index:  6664 , counter  995  - Time Elapsed:  7.27 min\n",
      "Index:  8147 , counter  1194  - Time Elapsed:  8.75 min\n",
      "Index:  9473 , counter  1393  - Time Elapsed:  10.2 min\n",
      "Index:  10244 , counter  1592  - Time Elapsed:  11.86 min\n",
      "Index:  10894 , counter  1791  - Time Elapsed:  13.43 min\n",
      "Index:  11526 , counter  1990  - Time Elapsed:  14.99 min\n",
      "Index:  12182 , counter  2189  - Time Elapsed:  16.73 min\n",
      "Index:  12830 , counter  2388  - Time Elapsed:  18.43 min\n",
      "Index:  13265 , counter  2587  - Time Elapsed:  20.03 min\n",
      "Index:  13675 , counter  2786  - Time Elapsed:  21.63 min\n",
      "Index:  13967 , counter  2985  - Time Elapsed:  23.27 min\n",
      "Index:  14352 , counter  3184  - Time Elapsed:  24.79 min\n",
      "Index:  14648 , counter  3383  - Time Elapsed:  26.4 min\n",
      "Index:  15016 , counter  3582  - Time Elapsed:  27.95 min\n",
      "Index:  15299 , counter  3781  - Time Elapsed:  29.62 min\n",
      "Index:  15622 , counter  3980  - Time Elapsed:  31.34 min\n",
      "Index:  15896 , counter  4179  - Time Elapsed:  32.95 min\n",
      "Index:  16175 , counter  4378  - Time Elapsed:  34.38 min\n",
      "Index:  16493 , counter  4577  - Time Elapsed:  35.8 min\n",
      "Index:  16794 , counter  4776  - Time Elapsed:  37.22 min\n",
      "Index:  17122 , counter  4975  - Time Elapsed:  38.7 min\n",
      "Index:  17409 , counter  5174  - Time Elapsed:  40.16 min\n",
      "Index:  17756 , counter  5373  - Time Elapsed:  41.6 min\n",
      "Index:  18024 , counter  5572  - Time Elapsed:  43.01 min\n",
      "Index:  18302 , counter  5771  - Time Elapsed:  44.43 min\n",
      "Index:  18624 , counter  5970  - Time Elapsed:  45.86 min\n",
      "Index:  18884 , counter  6169  - Time Elapsed:  47.31 min\n",
      "Index:  19137 , counter  6368  - Time Elapsed:  48.82 min\n",
      "Index:  19380 , counter  6567  - Time Elapsed:  50.36 min\n",
      "Index:  19625 , counter  6766  - Time Elapsed:  51.84 min\n",
      "Index:  19923 , counter  6965  - Time Elapsed:  53.37 min\n",
      "Index:  20176 , counter  7164  - Time Elapsed:  55.48 min\n",
      "Index:  20449 , counter  7363  - Time Elapsed:  57.74 min\n",
      "Index:  20704 , counter  7562  - Time Elapsed:  59.66 min\n",
      "Index:  20997 , counter  7761  - Time Elapsed:  61.9 min\n",
      "Index:  21243 , counter  7960  - Time Elapsed:  63.64 min\n",
      "Index:  21490 , counter  8159  - Time Elapsed:  65.67 min\n",
      "Index:  21746 , counter  8358  - Time Elapsed:  67.66 min\n",
      "Index:  22009 , counter  8557  - Time Elapsed:  69.83 min\n",
      "Index:  22301 , counter  8756  - Time Elapsed:  71.91 min\n",
      "Index:  22547 , counter  8955  - Time Elapsed:  73.69 min\n",
      "Index:  22795 , counter  9154  - Time Elapsed:  75.91 min\n",
      "Index:  23043 , counter  9353  - Time Elapsed:  77.56 min\n",
      "Index:  23288 , counter  9552  - Time Elapsed:  79.0 min\n",
      "Index:  23530 , counter  9751  - Time Elapsed:  80.44 min\n",
      "Index:  23806 , counter  9950  - Time Elapsed:  81.93 min\n",
      "Index:  24044 , counter  10149  - Time Elapsed:  83.87 min\n",
      "Index:  24282 , counter  10348  - Time Elapsed:  85.42 min\n",
      "Index:  24524 , counter  10547  - Time Elapsed:  87.17 min\n",
      "Index:  24766 , counter  10746  - Time Elapsed:  89.37 min\n",
      "Index:  25005 , counter  10945  - Time Elapsed:  91.5 min\n",
      "Index:  25250 , counter  11144  - Time Elapsed:  93.43 min\n",
      "Index:  25533 , counter  11343  - Time Elapsed:  95.18 min\n",
      "Index:  25792 , counter  11542  - Time Elapsed:  96.9 min\n",
      "Index:  26044 , counter  11741  - Time Elapsed:  98.75 min\n",
      "Index:  26305 , counter  11940  - Time Elapsed:  100.4 min\n",
      "Index:  26555 , counter  12139  - Time Elapsed:  101.87 min\n",
      "Index:  26849 , counter  12338  - Time Elapsed:  103.3 min\n",
      "Index:  27118 , counter  12537  - Time Elapsed:  104.72 min\n",
      "Index:  27484 , counter  12736  - Time Elapsed:  106.2 min\n",
      "Index:  27765 , counter  12935  - Time Elapsed:  107.64 min\n",
      "Index:  28143 , counter  13134  - Time Elapsed:  109.05 min\n",
      "Index:  28437 , counter  13333  - Time Elapsed:  110.47 min\n",
      "Index:  28838 , counter  13532  - Time Elapsed:  111.9 min\n",
      "Index:  29222 , counter  13731  - Time Elapsed:  113.34 min\n",
      "Index:  29529 , counter  13930  - Time Elapsed:  114.82 min\n",
      "Index:  29926 , counter  14129  - Time Elapsed:  116.27 min\n",
      "Index:  30338 , counter  14328  - Time Elapsed:  117.7 min\n",
      "Index:  30747 , counter  14527  - Time Elapsed:  119.11 min\n",
      "Index:  31150 , counter  14726  - Time Elapsed:  120.58 min\n",
      "Index:  31465 , counter  14925  - Time Elapsed:  122.04 min\n",
      "Index:  31870 , counter  15124  - Time Elapsed:  123.49 min\n",
      "Index:  32291 , counter  15323  - Time Elapsed:  124.89 min\n",
      "Index:  32689 , counter  15522  - Time Elapsed:  126.29 min\n",
      "Index:  32993 , counter  15721  - Time Elapsed:  127.7 min\n",
      "Index:  33399 , counter  15920  - Time Elapsed:  129.1 min\n",
      "Index:  33786 , counter  16119  - Time Elapsed:  130.55 min\n",
      "Index:  34192 , counter  16318  - Time Elapsed:  132.0 min\n",
      "Index:  34646 , counter  16517  - Time Elapsed:  133.42 min\n",
      "Index:  35087 , counter  16716  - Time Elapsed:  134.84 min\n",
      "Index:  35516 , counter  16915  - Time Elapsed:  136.24 min\n",
      "Index:  35973 , counter  17114  - Time Elapsed:  137.67 min\n",
      "Index:  36400 , counter  17313  - Time Elapsed:  139.07 min\n",
      "Index:  36812 , counter  17512  - Time Elapsed:  140.47 min\n",
      "Index:  37224 , counter  17711  - Time Elapsed:  141.88 min\n",
      "Index:  37648 , counter  17910  - Time Elapsed:  143.28 min\n",
      "Index:  38077 , counter  18109  - Time Elapsed:  144.73 min\n",
      "Index:  38494 , counter  18308  - Time Elapsed:  146.14 min\n",
      "Index:  38799 , counter  18507  - Time Elapsed:  147.57 min\n",
      "Index:  39214 , counter  18706  - Time Elapsed:  148.97 min\n",
      "Index:  39596 , counter  18905  - Time Elapsed:  150.38 min\n",
      "Index:  39891 , counter  19104  - Time Elapsed:  151.85 min\n",
      "Index:  40258 , counter  19303  - Time Elapsed:  153.27 min\n",
      "Index:  40617 , counter  19502  - Time Elapsed:  154.65 min\n",
      "Index:  40937 , counter  19701  - Time Elapsed:  156.05 min\n",
      "Index:  41330 , counter  19900  - Time Elapsed:  157.48 min\n",
      "Index:  41796 , counter  20099  - Time Elapsed:  158.93 min\n",
      "Index:  42276 , counter  20298  - Time Elapsed:  160.36 min\n",
      "Index:  42893 , counter  20497  - Time Elapsed:  161.76 min\n",
      "Index:  43507 , counter  20696  - Time Elapsed:  163.16 min\n",
      "Index:  44007 , counter  20895  - Time Elapsed:  164.6 min\n",
      "Index:  44638 , counter  21094  - Time Elapsed:  166.0 min\n",
      "Index:  45266 , counter  21293  - Time Elapsed:  167.41 min\n",
      "Index:  45901 , counter  21492  - Time Elapsed:  168.83 min\n",
      "Index:  46575 , counter  21691  - Time Elapsed:  170.26 min\n",
      "Index:  47457 , counter  21890  - Time Elapsed:  171.71 min\n",
      "Index:  48509 , counter  22089  - Time Elapsed:  173.14 min\n",
      "Index:  50256 , counter  22288  - Time Elapsed:  174.54 min\n",
      "Index:  51761 , counter  22487  - Time Elapsed:  175.94 min\n",
      "Took  176.67 min for  22591  datapoints\n"
     ]
    }
   ],
   "source": [
    "model = feature_extractor\n",
    "\n",
    "VGG16_transfer = pd.Series(dtype=object, index = correspondance_table.index)\n",
    "\n",
    "from timeit import default_timer as timer\n",
    "start = timer()\n",
    "counter = 0\n",
    "print_i = 199\n",
    "\n",
    "for index, row in correspondance_table.iterrows():\n",
    "    if index in useful_indexes:\n",
    "        # if the feature is not already in the table\n",
    "        if np.isnan(VGG16_transfer.loc[index]).any():\n",
    "            if True: #index < 5000:\n",
    "                try:\n",
    "                    img_path = row.file_path    \n",
    "                    img = image.load_img(img_path, target_size=(224, 224)) # original images are 400*400\n",
    "                    x = image.img_to_array(img)\n",
    "                    x = np.expand_dims(x, axis=0)\n",
    "                    x = preprocess_input(x)\n",
    "                    x_features = model.predict(x)[0]\n",
    "                    VGG16_transfer.loc[index] = x_features\n",
    "                    counter += 1\n",
    "                except KeyboardInterrupt:\n",
    "                    print(\"KeyboardInterrupt has been caught.\")\n",
    "                    break\n",
    "                except:\n",
    "                    pass\n",
    "\n",
    "    # print progress\n",
    "    if counter % 200 == print_i:\n",
    "        print('Index: ', str(index), ', counter ', str(counter), ' - Time Elapsed: ', str(round((timer() - start) / 60, 2)), 'min') \n",
    "        print_i = print_i - 1\n",
    "    # save progress\n",
    "#    if counter % 500 == 0:\n",
    "#        correspondance_table.to_pickle('image_features_table_transfer.pkl')\n",
    "#        pass\n",
    "\n",
    "\n",
    "print('Took ', str(round((timer() - start) / 60, 2)), 'min for ', counter, ' datapoints')\n",
    "\n",
    "correspondance_table['VGG16_transfer'] = VGG16_transfer\n",
    "\n",
    "correspondance_table.to_pickle('image_features_table_transfer.pkl')\n",
    "\n"
   ]
  },
  {
   "cell_type": "markdown",
   "metadata": {},
   "source": [
    "## 7.2. Test whether \"deep\" features of satellite imagery can predict wealth\n",
    "- **INPUT**: \n",
    " - `google_image_cnn/...`: Satellite images from 7.1\n",
    "- **OUTPUT**: \n",
    " - `data/model/DHS_CNN.csv`: Merged dataset with 492 rows, and 4097 columns (one indicates average cluster wealth, 4096 CNN features)\n",
    " - R^2 of model\n",
    "\n",
    "Repeat 6.2, except this time use the features generated from 7.1, i.e., the features that have been constructed after transfer learning. As in 6.2, show a scatterplot of the relationship between average cluster wealth (y-axis) and the first principal component of your image features. Then, report the cross-validated R^2 of your model (i.e., the average R^2 of your 10 test folds)."
   ]
  },
  {
   "cell_type": "markdown",
   "metadata": {},
   "source": [
    "We average the features for each cluster, using the function defined in part 6:"
   ]
  },
  {
   "cell_type": "code",
   "execution_count": 492,
   "metadata": {
    "collapsed": true
   },
   "outputs": [
    {
     "name": "stdout",
     "output_type": "stream",
     "text": [
      "n_sample not 100:  110 for cluster  Index(['wlthindf', 'latitude', 'longitude'], dtype='object')\n",
      "n_sample not 100:  110 for cluster  Index(['wlthindf', 'latitude', 'longitude'], dtype='object')\n",
      "n_sample not 100:  110 for cluster  Index(['wlthindf', 'latitude', 'longitude'], dtype='object')\n",
      "n_sample not 100:  110 for cluster  Index(['wlthindf', 'latitude', 'longitude'], dtype='object')\n",
      "n_sample not 100:  110 for cluster  Index(['wlthindf', 'latitude', 'longitude'], dtype='object')\n",
      "n_sample not 100:  110 for cluster  Index(['wlthindf', 'latitude', 'longitude'], dtype='object')\n",
      "n_sample not 100:  110 for cluster  Index(['wlthindf', 'latitude', 'longitude'], dtype='object')\n",
      "n_sample not 100:  110 for cluster  Index(['wlthindf', 'latitude', 'longitude'], dtype='object')\n",
      "n_sample not 100:  110 for cluster  Index(['wlthindf', 'latitude', 'longitude'], dtype='object')\n",
      "n_sample not 100:  110 for cluster  Index(['wlthindf', 'latitude', 'longitude'], dtype='object')\n",
      "n_sample not 100:  110 for cluster  Index(['wlthindf', 'latitude', 'longitude'], dtype='object')\n",
      "n_sample not 100:  110 for cluster  Index(['wlthindf', 'latitude', 'longitude'], dtype='object')\n",
      "n_sample not 100:  110 for cluster  Index(['wlthindf', 'latitude', 'longitude'], dtype='object')\n",
      "n_sample not 100:  110 for cluster  Index(['wlthindf', 'latitude', 'longitude'], dtype='object')\n",
      "n_sample not 100:  110 for cluster  Index(['wlthindf', 'latitude', 'longitude'], dtype='object')\n",
      "n_sample not 100:  110 for cluster  Index(['wlthindf', 'latitude', 'longitude'], dtype='object')\n",
      "n_sample not 100:  110 for cluster  Index(['wlthindf', 'latitude', 'longitude'], dtype='object')\n",
      "n_sample not 100:  110 for cluster  Index(['wlthindf', 'latitude', 'longitude'], dtype='object')\n",
      "n_sample not 100:  110 for cluster  Index(['wlthindf', 'latitude', 'longitude'], dtype='object')\n",
      "n_sample not 100:  110 for cluster  Index(['wlthindf', 'latitude', 'longitude'], dtype='object')\n",
      "n_sample not 100:  110 for cluster  Index(['wlthindf', 'latitude', 'longitude'], dtype='object')\n",
      "n_sample not 100:  110 for cluster  Index(['wlthindf', 'latitude', 'longitude'], dtype='object')\n",
      "n_sample not 100:  110 for cluster  Index(['wlthindf', 'latitude', 'longitude'], dtype='object')\n",
      "n_sample not 100:  110 for cluster  Index(['wlthindf', 'latitude', 'longitude'], dtype='object')\n",
      "n_sample not 100:  110 for cluster  Index(['wlthindf', 'latitude', 'longitude'], dtype='object')\n",
      "n_sample not 100:  110 for cluster  Index(['wlthindf', 'latitude', 'longitude'], dtype='object')\n",
      "n_sample not 100:  110 for cluster  Index(['wlthindf', 'latitude', 'longitude'], dtype='object')\n",
      "n_sample not 100:  110 for cluster  Index(['wlthindf', 'latitude', 'longitude'], dtype='object')\n",
      "n_sample not 100:  110 for cluster  Index(['wlthindf', 'latitude', 'longitude'], dtype='object')\n",
      "n_sample not 100:  110 for cluster  Index(['wlthindf', 'latitude', 'longitude'], dtype='object')\n",
      "n_sample not 100:  110 for cluster  Index(['wlthindf', 'latitude', 'longitude'], dtype='object')\n",
      "n_sample not 100:  110 for cluster  Index(['wlthindf', 'latitude', 'longitude'], dtype='object')\n",
      "n_sample not 100:  110 for cluster  Index(['wlthindf', 'latitude', 'longitude'], dtype='object')\n",
      "n_sample not 100:  110 for cluster  Index(['wlthindf', 'latitude', 'longitude'], dtype='object')\n",
      "n_sample not 100:  110 for cluster  Index(['wlthindf', 'latitude', 'longitude'], dtype='object')\n",
      "n_sample not 100:  110 for cluster  Index(['wlthindf', 'latitude', 'longitude'], dtype='object')\n",
      "n_sample not 100:  110 for cluster  Index(['wlthindf', 'latitude', 'longitude'], dtype='object')\n",
      "n_sample not 100:  110 for cluster  Index(['wlthindf', 'latitude', 'longitude'], dtype='object')\n",
      "n_sample not 100:  110 for cluster  Index(['wlthindf', 'latitude', 'longitude'], dtype='object')\n",
      "n_sample not 100:  110 for cluster  Index(['wlthindf', 'latitude', 'longitude'], dtype='object')\n",
      "n_sample not 100:  110 for cluster  Index(['wlthindf', 'latitude', 'longitude'], dtype='object')\n",
      "n_sample not 100:  110 for cluster  Index(['wlthindf', 'latitude', 'longitude'], dtype='object')\n",
      "n_sample not 100:  110 for cluster  Index(['wlthindf', 'latitude', 'longitude'], dtype='object')\n",
      "n_sample not 100:  110 for cluster  Index(['wlthindf', 'latitude', 'longitude'], dtype='object')\n",
      "n_sample not 100:  110 for cluster  Index(['wlthindf', 'latitude', 'longitude'], dtype='object')\n",
      "n_sample not 100:  110 for cluster  Index(['wlthindf', 'latitude', 'longitude'], dtype='object')\n",
      "n_sample not 100:  110 for cluster  Index(['wlthindf', 'latitude', 'longitude'], dtype='object')\n",
      "n_sample not 100:  110 for cluster  Index(['wlthindf', 'latitude', 'longitude'], dtype='object')\n",
      "n_sample not 100:  110 for cluster  Index(['wlthindf', 'latitude', 'longitude'], dtype='object')\n",
      "n_sample not 100:  110 for cluster  Index(['wlthindf', 'latitude', 'longitude'], dtype='object')\n",
      "n_sample not 100:  110 for cluster  Index(['wlthindf', 'latitude', 'longitude'], dtype='object')\n",
      "n_sample not 100:  110 for cluster  Index(['wlthindf', 'latitude', 'longitude'], dtype='object')\n",
      "n_sample not 100:  110 for cluster  Index(['wlthindf', 'latitude', 'longitude'], dtype='object')\n",
      "n_sample not 100:  110 for cluster  Index(['wlthindf', 'latitude', 'longitude'], dtype='object')\n",
      "n_sample not 100:  110 for cluster  Index(['wlthindf', 'latitude', 'longitude'], dtype='object')\n",
      "n_sample not 100:  110 for cluster  Index(['wlthindf', 'latitude', 'longitude'], dtype='object')\n",
      "n_sample not 100:  110 for cluster  Index(['wlthindf', 'latitude', 'longitude'], dtype='object')\n",
      "n_sample not 100:  110 for cluster  Index(['wlthindf', 'latitude', 'longitude'], dtype='object')\n",
      "n_sample not 100:  110 for cluster  Index(['wlthindf', 'latitude', 'longitude'], dtype='object')\n",
      "n_sample not 100:  110 for cluster  Index(['wlthindf', 'latitude', 'longitude'], dtype='object')\n",
      "n_sample not 100:  110 for cluster  Index(['wlthindf', 'latitude', 'longitude'], dtype='object')\n",
      "n_sample not 100:  110 for cluster  Index(['wlthindf', 'latitude', 'longitude'], dtype='object')\n",
      "n_sample not 100:  110 for cluster  Index(['wlthindf', 'latitude', 'longitude'], dtype='object')\n",
      "n_sample not 100:  110 for cluster  Index(['wlthindf', 'latitude', 'longitude'], dtype='object')\n",
      "n_sample not 100:  110 for cluster  Index(['wlthindf', 'latitude', 'longitude'], dtype='object')\n",
      "n_sample not 100:  110 for cluster  Index(['wlthindf', 'latitude', 'longitude'], dtype='object')\n",
      "n_sample not 100:  110 for cluster  Index(['wlthindf', 'latitude', 'longitude'], dtype='object')\n",
      "n_sample not 100:  110 for cluster  Index(['wlthindf', 'latitude', 'longitude'], dtype='object')\n",
      "n_sample not 100:  110 for cluster  Index(['wlthindf', 'latitude', 'longitude'], dtype='object')\n",
      "n_sample not 100:  110 for cluster  Index(['wlthindf', 'latitude', 'longitude'], dtype='object')\n",
      "n_sample not 100:  110 for cluster  Index(['wlthindf', 'latitude', 'longitude'], dtype='object')\n",
      "n_sample not 100:  110 for cluster  Index(['wlthindf', 'latitude', 'longitude'], dtype='object')\n",
      "n_sample not 100:  110 for cluster  Index(['wlthindf', 'latitude', 'longitude'], dtype='object')\n",
      "n_sample not 100:  110 for cluster  Index(['wlthindf', 'latitude', 'longitude'], dtype='object')\n",
      "n_sample not 100:  110 for cluster  Index(['wlthindf', 'latitude', 'longitude'], dtype='object')\n",
      "n_sample not 100:  110 for cluster  Index(['wlthindf', 'latitude', 'longitude'], dtype='object')\n",
      "n_sample not 100:  110 for cluster  Index(['wlthindf', 'latitude', 'longitude'], dtype='object')\n",
      "n_sample not 100:  110 for cluster  Index(['wlthindf', 'latitude', 'longitude'], dtype='object')\n",
      "n_sample not 100:  110 for cluster  Index(['wlthindf', 'latitude', 'longitude'], dtype='object')\n",
      "n_sample not 100:  110 for cluster  Index(['wlthindf', 'latitude', 'longitude'], dtype='object')\n"
     ]
    }
   ],
   "source": [
    "cluster_features_transfer = cluster_wealth.apply(get_cluster_feature_vector, axis = 1)"
   ]
  },
  {
   "cell_type": "markdown",
   "metadata": {},
   "source": [
    "We run a PCA on those features:"
   ]
  },
  {
   "cell_type": "code",
   "execution_count": 835,
   "metadata": {},
   "outputs": [],
   "source": [
    "pca_transfer = PCA(n_components=2)\n",
    "pca_transfer.fit(cluster_features_transfer)\n",
    "\n",
    "transfer_main_components = pd.DataFrame(pca_transfer.transform(cluster_features_transfer),\n",
    "                                        index = cluster_features_transfer.index)\n"
   ]
  },
  {
   "cell_type": "code",
   "execution_count": 836,
   "metadata": {},
   "outputs": [
    {
     "name": "stderr",
     "output_type": "stream",
     "text": [
      "/anaconda3/lib/python3.7/site-packages/sklearn/model_selection/_search.py:841: DeprecationWarning: The default of the `iid` parameter will change from True to False in version 0.22 and will be removed in 0.24. This will change numeric results when test-set sizes are unequal.\n",
      "  DeprecationWarning)\n"
     ]
    },
    {
     "data": {
      "text/plain": [
       "0.5424303244545097"
      ]
     },
     "execution_count": 836,
     "metadata": {},
     "output_type": "execute_result"
    }
   ],
   "source": [
    "grid_search.fit(transfer_main_components, labels)\n",
    "grid_search.score(transfer_main_components, labels)"
   ]
  },
  {
   "cell_type": "markdown",
   "metadata": {},
   "source": [
    "All the variance is contained on the first 2 components, which hints that something did not go right during the training phase. The overall prediction acuracy of these 2 components is Rˆ2 of 0.54"
   ]
  },
  {
   "cell_type": "markdown",
   "metadata": {},
   "source": [
    "## Combine all the features with predictive power in a single model, to generate the high-resolution map\n",
    "\n",
    "We will use the first 2 compoments of the features extracted by the fine-tuned CNN, the first 5 components of the features from the standard VGG16 and the nightlight luminosity.\n",
    "\n",
    "Using all these features, we get our best prediction accuracy, with an Rˆ2 of 0.77. This is just a 0.05 increase as compared to using the nighlight lminosity alone. "
   ]
  },
  {
   "cell_type": "code",
   "execution_count": 674,
   "metadata": {},
   "outputs": [],
   "source": [
    "top_features = VGG_PCA_top5\n",
    "top_features = top_features.add_prefix('VGG_PCA_')\n",
    "top_features['transfer_PCA_1'] = transfer_main_components[0]\n",
    "top_features['transfer_PCA_2'] = transfer_main_components[1]\n",
    "top_features['nightlight_med'] = cluster_nightlights.median_\n",
    "top_features['nightlight_min'] = cluster_nightlights.min_\n",
    "top_features['nightlight_max'] = cluster_nightlights.max_\n",
    "top_features['nightlight_std'] = cluster_nightlights.std_\n",
    "\n"
   ]
  },
  {
   "cell_type": "code",
   "execution_count": 618,
   "metadata": {},
   "outputs": [
    {
     "name": "stdout",
     "output_type": "stream",
     "text": [
      "{'alpha': 0.1}\n"
     ]
    },
    {
     "name": "stderr",
     "output_type": "stream",
     "text": [
      "/anaconda3/lib/python3.7/site-packages/sklearn/model_selection/_search.py:841: DeprecationWarning: The default of the `iid` parameter will change from True to False in version 0.22 and will be removed in 0.24. This will change numeric results when test-set sizes are unequal.\n",
      "  DeprecationWarning)\n"
     ]
    },
    {
     "data": {
      "text/plain": [
       "0.7728257537878254"
      ]
     },
     "execution_count": 618,
     "metadata": {},
     "output_type": "execute_result"
    }
   ],
   "source": [
    "from sklearn.model_selection import GridSearchCV\n",
    "\n",
    "ridge_model = Ridge(normalize = True)\n",
    "\n",
    "alpha_range = [10 ** i for i in range (-2, 6)]\n",
    "#alpha_range = alpha_range + [i * 5 for i in alpha_range]\n",
    "#alpha_range = [50 * i for i in range(1,20)]\n",
    "alpha_range.sort()\n",
    "\n",
    "param_grid = {'alpha' : alpha_range}\n",
    "\n",
    "\n",
    "grid_search = GridSearchCV(ridge_model, \n",
    "                           param_grid = param_grid,\n",
    "                           cv=5, \n",
    "                           return_train_score = True)\n",
    "\n",
    "grid_search.fit(top_features, labels)\n",
    "print(grid_search.best_params_)\n",
    "grid_search.score(top_features, labels)"
   ]
  },
  {
   "cell_type": "markdown",
   "metadata": {},
   "source": [
    "For part 8, we only keep the median luminosity, since other statistics dont make sens for a single image (as opposed to a cluster). We call this model `part_8_model`"
   ]
  },
  {
   "cell_type": "code",
   "execution_count": 838,
   "metadata": {},
   "outputs": [
    {
     "name": "stderr",
     "output_type": "stream",
     "text": [
      "/anaconda3/lib/python3.7/site-packages/sklearn/model_selection/_search.py:841: DeprecationWarning: The default of the `iid` parameter will change from True to False in version 0.22 and will be removed in 0.24. This will change numeric results when test-set sizes are unequal.\n",
      "  DeprecationWarning)\n"
     ]
    }
   ],
   "source": [
    "enabled_features = [\n",
    "'VGG_PCA_0',\n",
    "'VGG_PCA_1',\n",
    "'VGG_PCA_2',\n",
    "'VGG_PCA_3',\n",
    "'VGG_PCA_4',\n",
    "'transfer_PCA_1',\n",
    "'transfer_PCA_2',\n",
    "'nightlight_med',\n",
    "#'nightlight_min',\n",
    "#'nightlight_max',\n",
    "#'nightlight_std'\n",
    "]\n",
    "\n",
    "grid_search.fit(top_features[enabled_features], labels)\n",
    "part_8_model = grid_search.best_estimator_"
   ]
  },
  {
   "cell_type": "markdown",
   "metadata": {},
   "source": [
    "# 8. Construct a high-resolution map of the  predicted wealth of Rwanda\n",
    "- **INPUT**: \n",
    " - Model, image features (data/model/features_all_predictimage_location.csv)\n",
    "- **OUTPUT**: \n",
    " - Map ('poverty_mapping.tiff')\n",
    " \n",
    "Choose your favorite model from the three daytime-based models that you have trained above: 5.3 (basic daytime features), 6.2 (deep daytime features), or 7.2 (transfer-learned daytime features). Use this model to calculate the predicted wealth of every one of your original images. Create a heatmap showing the distribution of predicted wealth in Rwanda. With any luck, it will look something like this:\n",
    "<img src=\"figure/pmap.png\" alt=\"Map\"/>"
   ]
  },
  {
   "cell_type": "markdown",
   "metadata": {},
   "source": [
    "We combine all these features for each image in `correspondace_table`"
   ]
  },
  {
   "cell_type": "code",
   "execution_count": 747,
   "metadata": {
    "collapsed": true
   },
   "outputs": [
    {
     "name": "stdout",
     "output_type": "stream",
     "text": [
      "error at index  815 , reusing last image\n",
      "error at index  20265 , reusing last image\n",
      "error at index  20275 , reusing last image\n",
      "error at index  20278 , reusing last image\n",
      "error at index  20279 , reusing last image\n",
      "error at index  20281 , reusing last image\n"
     ]
    }
   ],
   "source": [
    "for feature in enabled_features:\n",
    "    correspondance_table[feature] = None\n",
    "    \n",
    "\n",
    "error_indexes = []\n",
    "for index, row in correspondance_table.iterrows():\n",
    "    if index in useful_indexes:\n",
    "        try:\n",
    "            vgg_features = pca_vgg.transform(row.VGG16_224_features)\n",
    "        except:\n",
    "            print('error at index ', index, ', reusing last image')\n",
    "            error_indexes.append(index)\n",
    "        transfer_features = pca_transfer.transform(row.VGG16_transfer.reshape(1, -1))\n",
    "        \n",
    "        new_features_list = [i for i in vgg_features[0]] + [i for i in transfer_features[0]]\n",
    "        new_features_list.append(row.lightness)\n",
    "        \n",
    "        column_counter = 0\n",
    "        for feature_name in enabled_features:\n",
    "            correspondance_table[feature_name].loc[index] = new_features_list[column_counter]\n",
    "            column_counter += 1\n"
   ]
  },
  {
   "cell_type": "code",
   "execution_count": 752,
   "metadata": {},
   "outputs": [
    {
     "data": {
      "text/html": [
       "<div>\n",
       "<style scoped>\n",
       "    .dataframe tbody tr th:only-of-type {\n",
       "        vertical-align: middle;\n",
       "    }\n",
       "\n",
       "    .dataframe tbody tr th {\n",
       "        vertical-align: top;\n",
       "    }\n",
       "\n",
       "    .dataframe thead th {\n",
       "        text-align: right;\n",
       "    }\n",
       "</style>\n",
       "<table border=\"1\" class=\"dataframe\">\n",
       "  <thead>\n",
       "    <tr style=\"text-align: right;\">\n",
       "      <th></th>\n",
       "      <th>VGG_PCA_0</th>\n",
       "      <th>VGG_PCA_1</th>\n",
       "      <th>VGG_PCA_2</th>\n",
       "      <th>VGG_PCA_3</th>\n",
       "      <th>VGG_PCA_4</th>\n",
       "      <th>transfer_PCA_1</th>\n",
       "      <th>transfer_PCA_2</th>\n",
       "      <th>nightlight_med</th>\n",
       "    </tr>\n",
       "  </thead>\n",
       "  <tbody>\n",
       "    <tr>\n",
       "      <th>379.0</th>\n",
       "      <td>-3.32645</td>\n",
       "      <td>-2.81418</td>\n",
       "      <td>11.8974</td>\n",
       "      <td>12.4218</td>\n",
       "      <td>10.1467</td>\n",
       "      <td>-774.454</td>\n",
       "      <td>-76.3782</td>\n",
       "      <td>0</td>\n",
       "    </tr>\n",
       "    <tr>\n",
       "      <th>380.0</th>\n",
       "      <td>-3.34352</td>\n",
       "      <td>-3.19779</td>\n",
       "      <td>12.2918</td>\n",
       "      <td>11.2058</td>\n",
       "      <td>9.95235</td>\n",
       "      <td>-752.279</td>\n",
       "      <td>-104.81</td>\n",
       "      <td>0</td>\n",
       "    </tr>\n",
       "    <tr>\n",
       "      <th>381.0</th>\n",
       "      <td>-2.13667</td>\n",
       "      <td>-3.46158</td>\n",
       "      <td>11.5233</td>\n",
       "      <td>10.5451</td>\n",
       "      <td>11.9186</td>\n",
       "      <td>-458.909</td>\n",
       "      <td>-25.5816</td>\n",
       "      <td>0</td>\n",
       "    </tr>\n",
       "    <tr>\n",
       "      <th>382.0</th>\n",
       "      <td>2.54487</td>\n",
       "      <td>-1.14957</td>\n",
       "      <td>8.20132</td>\n",
       "      <td>7.40399</td>\n",
       "      <td>13.3629</td>\n",
       "      <td>667.037</td>\n",
       "      <td>23.4443</td>\n",
       "      <td>0</td>\n",
       "    </tr>\n",
       "    <tr>\n",
       "      <th>383.0</th>\n",
       "      <td>-5.22504</td>\n",
       "      <td>-0.458251</td>\n",
       "      <td>7.11954</td>\n",
       "      <td>10.8527</td>\n",
       "      <td>9.35728</td>\n",
       "      <td>447.221</td>\n",
       "      <td>-27.065</td>\n",
       "      <td>0</td>\n",
       "    </tr>\n",
       "    <tr>\n",
       "      <th>384.0</th>\n",
       "      <td>-0.886757</td>\n",
       "      <td>6.91004</td>\n",
       "      <td>14.2296</td>\n",
       "      <td>0.0663076</td>\n",
       "      <td>1.64922</td>\n",
       "      <td>-156.086</td>\n",
       "      <td>49.2724</td>\n",
       "      <td>6</td>\n",
       "    </tr>\n",
       "    <tr>\n",
       "      <th>385.0</th>\n",
       "      <td>2.3179</td>\n",
       "      <td>-1.08349</td>\n",
       "      <td>18.6496</td>\n",
       "      <td>6.98078</td>\n",
       "      <td>2.54884</td>\n",
       "      <td>910.373</td>\n",
       "      <td>86.9025</td>\n",
       "      <td>7</td>\n",
       "    </tr>\n",
       "    <tr>\n",
       "      <th>386.0</th>\n",
       "      <td>-3.24242</td>\n",
       "      <td>-3.45257</td>\n",
       "      <td>12.8645</td>\n",
       "      <td>11.0969</td>\n",
       "      <td>7.36501</td>\n",
       "      <td>-1675.3</td>\n",
       "      <td>64.2944</td>\n",
       "      <td>9</td>\n",
       "    </tr>\n",
       "    <tr>\n",
       "      <th>387.0</th>\n",
       "      <td>-1.30876</td>\n",
       "      <td>-2.88227</td>\n",
       "      <td>7.96306</td>\n",
       "      <td>12.0386</td>\n",
       "      <td>11.6391</td>\n",
       "      <td>-850.923</td>\n",
       "      <td>37.3886</td>\n",
       "      <td>12</td>\n",
       "    </tr>\n",
       "    <tr>\n",
       "      <th>388.0</th>\n",
       "      <td>-3.13482</td>\n",
       "      <td>3.92923</td>\n",
       "      <td>-3.27966</td>\n",
       "      <td>13.7912</td>\n",
       "      <td>20.9793</td>\n",
       "      <td>567.184</td>\n",
       "      <td>-106.78</td>\n",
       "      <td>22</td>\n",
       "    </tr>\n",
       "    <tr>\n",
       "      <th>595.0</th>\n",
       "      <td>-4.43408</td>\n",
       "      <td>-1.90438</td>\n",
       "      <td>19.066</td>\n",
       "      <td>11.5614</td>\n",
       "      <td>3.56623</td>\n",
       "      <td>1621.56</td>\n",
       "      <td>-118.475</td>\n",
       "      <td>0</td>\n",
       "    </tr>\n",
       "    <tr>\n",
       "      <th>596.0</th>\n",
       "      <td>-5.97638</td>\n",
       "      <td>-0.836679</td>\n",
       "      <td>20.8022</td>\n",
       "      <td>8.35702</td>\n",
       "      <td>6.45925</td>\n",
       "      <td>1098.33</td>\n",
       "      <td>-65.4332</td>\n",
       "      <td>0</td>\n",
       "    </tr>\n",
       "    <tr>\n",
       "      <th>597.0</th>\n",
       "      <td>-7.18913</td>\n",
       "      <td>0.973603</td>\n",
       "      <td>20.1088</td>\n",
       "      <td>8.56225</td>\n",
       "      <td>-0.204193</td>\n",
       "      <td>1942.94</td>\n",
       "      <td>-152.692</td>\n",
       "      <td>0</td>\n",
       "    </tr>\n",
       "    <tr>\n",
       "      <th>598.0</th>\n",
       "      <td>-2.07048</td>\n",
       "      <td>1.63848</td>\n",
       "      <td>11.0392</td>\n",
       "      <td>4.95592</td>\n",
       "      <td>8.30129</td>\n",
       "      <td>2869.06</td>\n",
       "      <td>-64.2154</td>\n",
       "      <td>0</td>\n",
       "    </tr>\n",
       "    <tr>\n",
       "      <th>599.0</th>\n",
       "      <td>1.47201</td>\n",
       "      <td>1.29901</td>\n",
       "      <td>5.71643</td>\n",
       "      <td>1.72488</td>\n",
       "      <td>6.97972</td>\n",
       "      <td>3451.55</td>\n",
       "      <td>-83.6054</td>\n",
       "      <td>0</td>\n",
       "    </tr>\n",
       "    <tr>\n",
       "      <th>600.0</th>\n",
       "      <td>-7.82908</td>\n",
       "      <td>7.4909</td>\n",
       "      <td>18.6699</td>\n",
       "      <td>3.6948</td>\n",
       "      <td>3.90865</td>\n",
       "      <td>1105.14</td>\n",
       "      <td>-98.5887</td>\n",
       "      <td>6</td>\n",
       "    </tr>\n",
       "    <tr>\n",
       "      <th>601.0</th>\n",
       "      <td>-5.58597</td>\n",
       "      <td>2.7481</td>\n",
       "      <td>10.4104</td>\n",
       "      <td>9.89418</td>\n",
       "      <td>12.2023</td>\n",
       "      <td>-1034.51</td>\n",
       "      <td>-72.0613</td>\n",
       "      <td>7</td>\n",
       "    </tr>\n",
       "    <tr>\n",
       "      <th>602.0</th>\n",
       "      <td>-5.41265</td>\n",
       "      <td>8.48142</td>\n",
       "      <td>9.21461</td>\n",
       "      <td>-1.05786</td>\n",
       "      <td>15.5163</td>\n",
       "      <td>-905.992</td>\n",
       "      <td>-21.9937</td>\n",
       "      <td>9</td>\n",
       "    </tr>\n",
       "    <tr>\n",
       "      <th>603.0</th>\n",
       "      <td>-7.55862</td>\n",
       "      <td>9.3191</td>\n",
       "      <td>1.9334</td>\n",
       "      <td>3.06551</td>\n",
       "      <td>18.346</td>\n",
       "      <td>-205.953</td>\n",
       "      <td>-89.6753</td>\n",
       "      <td>13</td>\n",
       "    </tr>\n",
       "    <tr>\n",
       "      <th>604.0</th>\n",
       "      <td>-4.46646</td>\n",
       "      <td>10.2272</td>\n",
       "      <td>7.33867</td>\n",
       "      <td>3.27488</td>\n",
       "      <td>19.4906</td>\n",
       "      <td>-1285.74</td>\n",
       "      <td>15.232</td>\n",
       "      <td>20</td>\n",
       "    </tr>\n",
       "    <tr>\n",
       "      <th>605.0</th>\n",
       "      <td>-14.4173</td>\n",
       "      <td>5.55352</td>\n",
       "      <td>19.0339</td>\n",
       "      <td>-1.88362</td>\n",
       "      <td>11.2859</td>\n",
       "      <td>-357.923</td>\n",
       "      <td>-140.816</td>\n",
       "      <td>26</td>\n",
       "    </tr>\n",
       "    <tr>\n",
       "      <th>606.0</th>\n",
       "      <td>-5.99709</td>\n",
       "      <td>4.64945</td>\n",
       "      <td>4.77545</td>\n",
       "      <td>3.9156</td>\n",
       "      <td>12.8222</td>\n",
       "      <td>-128.061</td>\n",
       "      <td>-99.6206</td>\n",
       "      <td>29</td>\n",
       "    </tr>\n",
       "    <tr>\n",
       "      <th>607.0</th>\n",
       "      <td>13.5187</td>\n",
       "      <td>-2.84131</td>\n",
       "      <td>-6.4155</td>\n",
       "      <td>3.55503</td>\n",
       "      <td>13.713</td>\n",
       "      <td>1579.88</td>\n",
       "      <td>116.674</td>\n",
       "      <td>26</td>\n",
       "    </tr>\n",
       "    <tr>\n",
       "      <th>608.0</th>\n",
       "      <td>13.9757</td>\n",
       "      <td>0.299831</td>\n",
       "      <td>-9.1145</td>\n",
       "      <td>0.687249</td>\n",
       "      <td>5.85092</td>\n",
       "      <td>2864.21</td>\n",
       "      <td>-56.1094</td>\n",
       "      <td>22</td>\n",
       "    </tr>\n",
       "    <tr>\n",
       "      <th>609.0</th>\n",
       "      <td>12.9556</td>\n",
       "      <td>-18.7195</td>\n",
       "      <td>-2.06828</td>\n",
       "      <td>-3.42185</td>\n",
       "      <td>-9.36313</td>\n",
       "      <td>-497.558</td>\n",
       "      <td>177.191</td>\n",
       "      <td>17</td>\n",
       "    </tr>\n",
       "    <tr>\n",
       "      <th>621.0</th>\n",
       "      <td>3.09784</td>\n",
       "      <td>12.8233</td>\n",
       "      <td>-1.26985</td>\n",
       "      <td>2.05902</td>\n",
       "      <td>-19.4311</td>\n",
       "      <td>4319.77</td>\n",
       "      <td>-25.7619</td>\n",
       "      <td>0</td>\n",
       "    </tr>\n",
       "    <tr>\n",
       "      <th>622.0</th>\n",
       "      <td>-12.4444</td>\n",
       "      <td>-5.09501</td>\n",
       "      <td>0.860301</td>\n",
       "      <td>7.6662</td>\n",
       "      <td>-15.6091</td>\n",
       "      <td>-120.428</td>\n",
       "      <td>-28.8669</td>\n",
       "      <td>0</td>\n",
       "    </tr>\n",
       "    <tr>\n",
       "      <th>623.0</th>\n",
       "      <td>-3.81589</td>\n",
       "      <td>-7.33814</td>\n",
       "      <td>6.96312</td>\n",
       "      <td>-1.78268</td>\n",
       "      <td>-14.5045</td>\n",
       "      <td>116.569</td>\n",
       "      <td>-34.7769</td>\n",
       "      <td>0</td>\n",
       "    </tr>\n",
       "    <tr>\n",
       "      <th>624.0</th>\n",
       "      <td>5.3549</td>\n",
       "      <td>1.07954</td>\n",
       "      <td>12.4582</td>\n",
       "      <td>5.98689</td>\n",
       "      <td>-13.5772</td>\n",
       "      <td>2957.73</td>\n",
       "      <td>48.7396</td>\n",
       "      <td>0</td>\n",
       "    </tr>\n",
       "    <tr>\n",
       "      <th>625.0</th>\n",
       "      <td>-4.78799</td>\n",
       "      <td>-7.33399</td>\n",
       "      <td>0.208015</td>\n",
       "      <td>5.56814</td>\n",
       "      <td>-23.0326</td>\n",
       "      <td>1235.26</td>\n",
       "      <td>-100.735</td>\n",
       "      <td>0</td>\n",
       "    </tr>\n",
       "    <tr>\n",
       "      <th>...</th>\n",
       "      <td>...</td>\n",
       "      <td>...</td>\n",
       "      <td>...</td>\n",
       "      <td>...</td>\n",
       "      <td>...</td>\n",
       "      <td>...</td>\n",
       "      <td>...</td>\n",
       "      <td>...</td>\n",
       "    </tr>\n",
       "    <tr>\n",
       "      <th>52403.0</th>\n",
       "      <td>-6.70424</td>\n",
       "      <td>-6.55167</td>\n",
       "      <td>13.6184</td>\n",
       "      <td>-6.952</td>\n",
       "      <td>-10.9379</td>\n",
       "      <td>1874.38</td>\n",
       "      <td>-45.2361</td>\n",
       "      <td>0</td>\n",
       "    </tr>\n",
       "    <tr>\n",
       "      <th>52404.0</th>\n",
       "      <td>-18.0826</td>\n",
       "      <td>0.205353</td>\n",
       "      <td>8.62775</td>\n",
       "      <td>5.83276</td>\n",
       "      <td>12.6328</td>\n",
       "      <td>197.493</td>\n",
       "      <td>-132.243</td>\n",
       "      <td>0</td>\n",
       "    </tr>\n",
       "    <tr>\n",
       "      <th>52405.0</th>\n",
       "      <td>-17.6891</td>\n",
       "      <td>8.47665</td>\n",
       "      <td>12.4089</td>\n",
       "      <td>9.49085</td>\n",
       "      <td>23.9232</td>\n",
       "      <td>1356.18</td>\n",
       "      <td>-164.154</td>\n",
       "      <td>0</td>\n",
       "    </tr>\n",
       "    <tr>\n",
       "      <th>52406.0</th>\n",
       "      <td>-11.0076</td>\n",
       "      <td>5.60199</td>\n",
       "      <td>11.3427</td>\n",
       "      <td>6.78</td>\n",
       "      <td>21.0847</td>\n",
       "      <td>-87.0822</td>\n",
       "      <td>-72.8694</td>\n",
       "      <td>0</td>\n",
       "    </tr>\n",
       "    <tr>\n",
       "      <th>52407.0</th>\n",
       "      <td>-12.8219</td>\n",
       "      <td>15.3776</td>\n",
       "      <td>11.1081</td>\n",
       "      <td>-3.60056</td>\n",
       "      <td>16.0908</td>\n",
       "      <td>-743.734</td>\n",
       "      <td>-42.8928</td>\n",
       "      <td>0</td>\n",
       "    </tr>\n",
       "    <tr>\n",
       "      <th>52408.0</th>\n",
       "      <td>-13.6594</td>\n",
       "      <td>7.80668</td>\n",
       "      <td>12.5775</td>\n",
       "      <td>10.0763</td>\n",
       "      <td>16.0569</td>\n",
       "      <td>0.784953</td>\n",
       "      <td>-40.3511</td>\n",
       "      <td>0</td>\n",
       "    </tr>\n",
       "    <tr>\n",
       "      <th>52409.0</th>\n",
       "      <td>-13.7035</td>\n",
       "      <td>9.81228</td>\n",
       "      <td>9.963</td>\n",
       "      <td>12.842</td>\n",
       "      <td>12.8068</td>\n",
       "      <td>-283.864</td>\n",
       "      <td>-75.904</td>\n",
       "      <td>0</td>\n",
       "    </tr>\n",
       "    <tr>\n",
       "      <th>52410.0</th>\n",
       "      <td>-8.86212</td>\n",
       "      <td>11.6058</td>\n",
       "      <td>12.5738</td>\n",
       "      <td>8.76525</td>\n",
       "      <td>20.5398</td>\n",
       "      <td>681.399</td>\n",
       "      <td>-89.3669</td>\n",
       "      <td>0</td>\n",
       "    </tr>\n",
       "    <tr>\n",
       "      <th>52616.0</th>\n",
       "      <td>-10.1237</td>\n",
       "      <td>-6.07883</td>\n",
       "      <td>10.5307</td>\n",
       "      <td>3.13196</td>\n",
       "      <td>-7.02325</td>\n",
       "      <td>2600.01</td>\n",
       "      <td>-75.9616</td>\n",
       "      <td>0</td>\n",
       "    </tr>\n",
       "    <tr>\n",
       "      <th>52617.0</th>\n",
       "      <td>-18.631</td>\n",
       "      <td>13.5696</td>\n",
       "      <td>16.2873</td>\n",
       "      <td>11.3697</td>\n",
       "      <td>13.3622</td>\n",
       "      <td>3267.39</td>\n",
       "      <td>-191.033</td>\n",
       "      <td>0</td>\n",
       "    </tr>\n",
       "    <tr>\n",
       "      <th>52618.0</th>\n",
       "      <td>-11.3688</td>\n",
       "      <td>12.7324</td>\n",
       "      <td>11.9256</td>\n",
       "      <td>0.562709</td>\n",
       "      <td>19.0509</td>\n",
       "      <td>-354.57</td>\n",
       "      <td>-93.9602</td>\n",
       "      <td>0</td>\n",
       "    </tr>\n",
       "    <tr>\n",
       "      <th>52619.0</th>\n",
       "      <td>-9.66401</td>\n",
       "      <td>6.40566</td>\n",
       "      <td>6.75101</td>\n",
       "      <td>4.03505</td>\n",
       "      <td>28.1722</td>\n",
       "      <td>-1426.89</td>\n",
       "      <td>65.4315</td>\n",
       "      <td>0</td>\n",
       "    </tr>\n",
       "    <tr>\n",
       "      <th>52620.0</th>\n",
       "      <td>-14.7261</td>\n",
       "      <td>12.2224</td>\n",
       "      <td>9.79823</td>\n",
       "      <td>2.59843</td>\n",
       "      <td>16.5034</td>\n",
       "      <td>1034.11</td>\n",
       "      <td>-183.911</td>\n",
       "      <td>0</td>\n",
       "    </tr>\n",
       "    <tr>\n",
       "      <th>52621.0</th>\n",
       "      <td>-20.4126</td>\n",
       "      <td>8.6911</td>\n",
       "      <td>8.65863</td>\n",
       "      <td>10.1137</td>\n",
       "      <td>9.14949</td>\n",
       "      <td>1276.59</td>\n",
       "      <td>-253.409</td>\n",
       "      <td>0</td>\n",
       "    </tr>\n",
       "    <tr>\n",
       "      <th>52622.0</th>\n",
       "      <td>-11.0124</td>\n",
       "      <td>12.1</td>\n",
       "      <td>15.3142</td>\n",
       "      <td>2.41583</td>\n",
       "      <td>16.2063</td>\n",
       "      <td>-239.634</td>\n",
       "      <td>-115.091</td>\n",
       "      <td>0</td>\n",
       "    </tr>\n",
       "    <tr>\n",
       "      <th>52623.0</th>\n",
       "      <td>-10.6406</td>\n",
       "      <td>10.7913</td>\n",
       "      <td>19.2924</td>\n",
       "      <td>-2.78147</td>\n",
       "      <td>22.4372</td>\n",
       "      <td>-9.74781</td>\n",
       "      <td>-176.223</td>\n",
       "      <td>0</td>\n",
       "    </tr>\n",
       "    <tr>\n",
       "      <th>52624.0</th>\n",
       "      <td>-9.03473</td>\n",
       "      <td>11.6139</td>\n",
       "      <td>16.619</td>\n",
       "      <td>-8.9494</td>\n",
       "      <td>22.243</td>\n",
       "      <td>-2044.5</td>\n",
       "      <td>11.1496</td>\n",
       "      <td>0</td>\n",
       "    </tr>\n",
       "    <tr>\n",
       "      <th>52625.0</th>\n",
       "      <td>-11.4233</td>\n",
       "      <td>15.1378</td>\n",
       "      <td>11.4601</td>\n",
       "      <td>3.07224</td>\n",
       "      <td>11.3036</td>\n",
       "      <td>-35.4009</td>\n",
       "      <td>-82.8365</td>\n",
       "      <td>0</td>\n",
       "    </tr>\n",
       "    <tr>\n",
       "      <th>52626.0</th>\n",
       "      <td>-7.08842</td>\n",
       "      <td>7.88199</td>\n",
       "      <td>16.9403</td>\n",
       "      <td>8.19472</td>\n",
       "      <td>20.256</td>\n",
       "      <td>1389.24</td>\n",
       "      <td>-131.595</td>\n",
       "      <td>0</td>\n",
       "    </tr>\n",
       "    <tr>\n",
       "      <th>52832.0</th>\n",
       "      <td>-9.56316</td>\n",
       "      <td>5.39503</td>\n",
       "      <td>5.14452</td>\n",
       "      <td>4.25558</td>\n",
       "      <td>29.4513</td>\n",
       "      <td>96.6155</td>\n",
       "      <td>-96.7227</td>\n",
       "      <td>0</td>\n",
       "    </tr>\n",
       "    <tr>\n",
       "      <th>52833.0</th>\n",
       "      <td>-5.33195</td>\n",
       "      <td>4.5359</td>\n",
       "      <td>6.2793</td>\n",
       "      <td>4.07291</td>\n",
       "      <td>23.6569</td>\n",
       "      <td>-1284.94</td>\n",
       "      <td>24.2887</td>\n",
       "      <td>0</td>\n",
       "    </tr>\n",
       "    <tr>\n",
       "      <th>52834.0</th>\n",
       "      <td>-4.24663</td>\n",
       "      <td>5.67957</td>\n",
       "      <td>8.39286</td>\n",
       "      <td>-1.99502</td>\n",
       "      <td>27.8081</td>\n",
       "      <td>-1153.36</td>\n",
       "      <td>33.6627</td>\n",
       "      <td>0</td>\n",
       "    </tr>\n",
       "    <tr>\n",
       "      <th>52835.0</th>\n",
       "      <td>-6.43825</td>\n",
       "      <td>10.6952</td>\n",
       "      <td>6.55223</td>\n",
       "      <td>6.76338</td>\n",
       "      <td>28.7244</td>\n",
       "      <td>642.577</td>\n",
       "      <td>-58.5178</td>\n",
       "      <td>0</td>\n",
       "    </tr>\n",
       "    <tr>\n",
       "      <th>52836.0</th>\n",
       "      <td>-5.93809</td>\n",
       "      <td>8.43656</td>\n",
       "      <td>-1.10509</td>\n",
       "      <td>0.966186</td>\n",
       "      <td>29.1323</td>\n",
       "      <td>-269.412</td>\n",
       "      <td>-68.3238</td>\n",
       "      <td>0</td>\n",
       "    </tr>\n",
       "    <tr>\n",
       "      <th>52837.0</th>\n",
       "      <td>-11.4444</td>\n",
       "      <td>11.6224</td>\n",
       "      <td>15.5741</td>\n",
       "      <td>0.416716</td>\n",
       "      <td>17.3033</td>\n",
       "      <td>578.161</td>\n",
       "      <td>-87.7275</td>\n",
       "      <td>0</td>\n",
       "    </tr>\n",
       "    <tr>\n",
       "      <th>52838.0</th>\n",
       "      <td>-6.88634</td>\n",
       "      <td>-1.69402</td>\n",
       "      <td>10.8883</td>\n",
       "      <td>11.6376</td>\n",
       "      <td>23.4095</td>\n",
       "      <td>-158.264</td>\n",
       "      <td>-126.996</td>\n",
       "      <td>0</td>\n",
       "    </tr>\n",
       "    <tr>\n",
       "      <th>52839.0</th>\n",
       "      <td>-6.83569</td>\n",
       "      <td>5.44062</td>\n",
       "      <td>11.1678</td>\n",
       "      <td>13.5384</td>\n",
       "      <td>23.3689</td>\n",
       "      <td>1183.93</td>\n",
       "      <td>-186.182</td>\n",
       "      <td>0</td>\n",
       "    </tr>\n",
       "    <tr>\n",
       "      <th>52840.0</th>\n",
       "      <td>-12.1857</td>\n",
       "      <td>11.2294</td>\n",
       "      <td>10.1646</td>\n",
       "      <td>-3.77586</td>\n",
       "      <td>21.6302</td>\n",
       "      <td>-417.626</td>\n",
       "      <td>-128.533</td>\n",
       "      <td>0</td>\n",
       "    </tr>\n",
       "    <tr>\n",
       "      <th>52841.0</th>\n",
       "      <td>-7.5377</td>\n",
       "      <td>7.51467</td>\n",
       "      <td>9.57358</td>\n",
       "      <td>0.15357</td>\n",
       "      <td>18.4836</td>\n",
       "      <td>-875.863</td>\n",
       "      <td>-35.4248</td>\n",
       "      <td>0</td>\n",
       "    </tr>\n",
       "    <tr>\n",
       "      <th>52842.0</th>\n",
       "      <td>-5.19022</td>\n",
       "      <td>9.35935</td>\n",
       "      <td>3.60965</td>\n",
       "      <td>0.84213</td>\n",
       "      <td>23.2539</td>\n",
       "      <td>-912.654</td>\n",
       "      <td>-20.3045</td>\n",
       "      <td>0</td>\n",
       "    </tr>\n",
       "  </tbody>\n",
       "</table>\n",
       "<p>22739 rows × 8 columns</p>\n",
       "</div>"
      ],
      "text/plain": [
       "        VGG_PCA_0 VGG_PCA_1 VGG_PCA_2  VGG_PCA_3 VGG_PCA_4 transfer_PCA_1  \\\n",
       "379.0    -3.32645  -2.81418   11.8974    12.4218   10.1467       -774.454   \n",
       "380.0    -3.34352  -3.19779   12.2918    11.2058   9.95235       -752.279   \n",
       "381.0    -2.13667  -3.46158   11.5233    10.5451   11.9186       -458.909   \n",
       "382.0     2.54487  -1.14957   8.20132    7.40399   13.3629        667.037   \n",
       "383.0    -5.22504 -0.458251   7.11954    10.8527   9.35728        447.221   \n",
       "384.0   -0.886757   6.91004   14.2296  0.0663076   1.64922       -156.086   \n",
       "385.0      2.3179  -1.08349   18.6496    6.98078   2.54884        910.373   \n",
       "386.0    -3.24242  -3.45257   12.8645    11.0969   7.36501        -1675.3   \n",
       "387.0    -1.30876  -2.88227   7.96306    12.0386   11.6391       -850.923   \n",
       "388.0    -3.13482   3.92923  -3.27966    13.7912   20.9793        567.184   \n",
       "595.0    -4.43408  -1.90438    19.066    11.5614   3.56623        1621.56   \n",
       "596.0    -5.97638 -0.836679   20.8022    8.35702   6.45925        1098.33   \n",
       "597.0    -7.18913  0.973603   20.1088    8.56225 -0.204193        1942.94   \n",
       "598.0    -2.07048   1.63848   11.0392    4.95592   8.30129        2869.06   \n",
       "599.0     1.47201   1.29901   5.71643    1.72488   6.97972        3451.55   \n",
       "600.0    -7.82908    7.4909   18.6699     3.6948   3.90865        1105.14   \n",
       "601.0    -5.58597    2.7481   10.4104    9.89418   12.2023       -1034.51   \n",
       "602.0    -5.41265   8.48142   9.21461   -1.05786   15.5163       -905.992   \n",
       "603.0    -7.55862    9.3191    1.9334    3.06551    18.346       -205.953   \n",
       "604.0    -4.46646   10.2272   7.33867    3.27488   19.4906       -1285.74   \n",
       "605.0    -14.4173   5.55352   19.0339   -1.88362   11.2859       -357.923   \n",
       "606.0    -5.99709   4.64945   4.77545     3.9156   12.8222       -128.061   \n",
       "607.0     13.5187  -2.84131   -6.4155    3.55503    13.713        1579.88   \n",
       "608.0     13.9757  0.299831   -9.1145   0.687249   5.85092        2864.21   \n",
       "609.0     12.9556  -18.7195  -2.06828   -3.42185  -9.36313       -497.558   \n",
       "621.0     3.09784   12.8233  -1.26985    2.05902  -19.4311        4319.77   \n",
       "622.0    -12.4444  -5.09501  0.860301     7.6662  -15.6091       -120.428   \n",
       "623.0    -3.81589  -7.33814   6.96312   -1.78268  -14.5045        116.569   \n",
       "624.0      5.3549   1.07954   12.4582    5.98689  -13.5772        2957.73   \n",
       "625.0    -4.78799  -7.33399  0.208015    5.56814  -23.0326        1235.26   \n",
       "...           ...       ...       ...        ...       ...            ...   \n",
       "52403.0  -6.70424  -6.55167   13.6184     -6.952  -10.9379        1874.38   \n",
       "52404.0  -18.0826  0.205353   8.62775    5.83276   12.6328        197.493   \n",
       "52405.0  -17.6891   8.47665   12.4089    9.49085   23.9232        1356.18   \n",
       "52406.0  -11.0076   5.60199   11.3427       6.78   21.0847       -87.0822   \n",
       "52407.0  -12.8219   15.3776   11.1081   -3.60056   16.0908       -743.734   \n",
       "52408.0  -13.6594   7.80668   12.5775    10.0763   16.0569       0.784953   \n",
       "52409.0  -13.7035   9.81228     9.963     12.842   12.8068       -283.864   \n",
       "52410.0  -8.86212   11.6058   12.5738    8.76525   20.5398        681.399   \n",
       "52616.0  -10.1237  -6.07883   10.5307    3.13196  -7.02325        2600.01   \n",
       "52617.0   -18.631   13.5696   16.2873    11.3697   13.3622        3267.39   \n",
       "52618.0  -11.3688   12.7324   11.9256   0.562709   19.0509        -354.57   \n",
       "52619.0  -9.66401   6.40566   6.75101    4.03505   28.1722       -1426.89   \n",
       "52620.0  -14.7261   12.2224   9.79823    2.59843   16.5034        1034.11   \n",
       "52621.0  -20.4126    8.6911   8.65863    10.1137   9.14949        1276.59   \n",
       "52622.0  -11.0124      12.1   15.3142    2.41583   16.2063       -239.634   \n",
       "52623.0  -10.6406   10.7913   19.2924   -2.78147   22.4372       -9.74781   \n",
       "52624.0  -9.03473   11.6139    16.619    -8.9494    22.243        -2044.5   \n",
       "52625.0  -11.4233   15.1378   11.4601    3.07224   11.3036       -35.4009   \n",
       "52626.0  -7.08842   7.88199   16.9403    8.19472    20.256        1389.24   \n",
       "52832.0  -9.56316   5.39503   5.14452    4.25558   29.4513        96.6155   \n",
       "52833.0  -5.33195    4.5359    6.2793    4.07291   23.6569       -1284.94   \n",
       "52834.0  -4.24663   5.67957   8.39286   -1.99502   27.8081       -1153.36   \n",
       "52835.0  -6.43825   10.6952   6.55223    6.76338   28.7244        642.577   \n",
       "52836.0  -5.93809   8.43656  -1.10509   0.966186   29.1323       -269.412   \n",
       "52837.0  -11.4444   11.6224   15.5741   0.416716   17.3033        578.161   \n",
       "52838.0  -6.88634  -1.69402   10.8883    11.6376   23.4095       -158.264   \n",
       "52839.0  -6.83569   5.44062   11.1678    13.5384   23.3689        1183.93   \n",
       "52840.0  -12.1857   11.2294   10.1646   -3.77586   21.6302       -417.626   \n",
       "52841.0   -7.5377   7.51467   9.57358    0.15357   18.4836       -875.863   \n",
       "52842.0  -5.19022   9.35935   3.60965    0.84213   23.2539       -912.654   \n",
       "\n",
       "        transfer_PCA_2 nightlight_med  \n",
       "379.0         -76.3782              0  \n",
       "380.0          -104.81              0  \n",
       "381.0         -25.5816              0  \n",
       "382.0          23.4443              0  \n",
       "383.0          -27.065              0  \n",
       "384.0          49.2724              6  \n",
       "385.0          86.9025              7  \n",
       "386.0          64.2944              9  \n",
       "387.0          37.3886             12  \n",
       "388.0          -106.78             22  \n",
       "595.0         -118.475              0  \n",
       "596.0         -65.4332              0  \n",
       "597.0         -152.692              0  \n",
       "598.0         -64.2154              0  \n",
       "599.0         -83.6054              0  \n",
       "600.0         -98.5887              6  \n",
       "601.0         -72.0613              7  \n",
       "602.0         -21.9937              9  \n",
       "603.0         -89.6753             13  \n",
       "604.0           15.232             20  \n",
       "605.0         -140.816             26  \n",
       "606.0         -99.6206             29  \n",
       "607.0          116.674             26  \n",
       "608.0         -56.1094             22  \n",
       "609.0          177.191             17  \n",
       "621.0         -25.7619              0  \n",
       "622.0         -28.8669              0  \n",
       "623.0         -34.7769              0  \n",
       "624.0          48.7396              0  \n",
       "625.0         -100.735              0  \n",
       "...                ...            ...  \n",
       "52403.0       -45.2361              0  \n",
       "52404.0       -132.243              0  \n",
       "52405.0       -164.154              0  \n",
       "52406.0       -72.8694              0  \n",
       "52407.0       -42.8928              0  \n",
       "52408.0       -40.3511              0  \n",
       "52409.0        -75.904              0  \n",
       "52410.0       -89.3669              0  \n",
       "52616.0       -75.9616              0  \n",
       "52617.0       -191.033              0  \n",
       "52618.0       -93.9602              0  \n",
       "52619.0        65.4315              0  \n",
       "52620.0       -183.911              0  \n",
       "52621.0       -253.409              0  \n",
       "52622.0       -115.091              0  \n",
       "52623.0       -176.223              0  \n",
       "52624.0        11.1496              0  \n",
       "52625.0       -82.8365              0  \n",
       "52626.0       -131.595              0  \n",
       "52832.0       -96.7227              0  \n",
       "52833.0        24.2887              0  \n",
       "52834.0        33.6627              0  \n",
       "52835.0       -58.5178              0  \n",
       "52836.0       -68.3238              0  \n",
       "52837.0       -87.7275              0  \n",
       "52838.0       -126.996              0  \n",
       "52839.0       -186.182              0  \n",
       "52840.0       -128.533              0  \n",
       "52841.0       -35.4248              0  \n",
       "52842.0       -20.3045              0  \n",
       "\n",
       "[22739 rows x 8 columns]"
      ]
     },
     "execution_count": 752,
     "metadata": {},
     "output_type": "execute_result"
    }
   ],
   "source": [
    "correspondance_table[enabled_features].loc[useful_indexes]"
   ]
  },
  {
   "cell_type": "markdown",
   "metadata": {},
   "source": [
    "**We make a weath prediction, for each image:**"
   ]
  },
  {
   "cell_type": "code",
   "execution_count": 839,
   "metadata": {},
   "outputs": [],
   "source": [
    "predictions = pd.Series(part_8_model.predict(correspondance_table[enabled_features].loc[useful_indexes]), \n",
    "                        index = useful_indexes)\n",
    "\n",
    "predictions.name = 'wealth_prediction'"
   ]
  },
  {
   "cell_type": "markdown",
   "metadata": {},
   "source": [
    "We notice that there are some outliers in the lower bound of the distribution, which doesnt make sens in the real life (you can't be much more poor that someone already poor). \n",
    "We therefor add a lower boud for the precision to the last 1% percentil, which corresponds to a weath index of -0.92."
   ]
  },
  {
   "cell_type": "code",
   "execution_count": 840,
   "metadata": {},
   "outputs": [
    {
     "data": {
      "text/plain": [
       "count    22739.000000\n",
       "mean        -0.272008\n",
       "std          0.439715\n",
       "min         -1.620949\n",
       "0%          -1.620949\n",
       "1%          -0.925973\n",
       "2%          -0.846538\n",
       "3%          -0.799769\n",
       "4%          -0.768524\n",
       "5%          -0.740927\n",
       "6%          -0.718728\n",
       "7.0%        -0.698342\n",
       "8%          -0.681301\n",
       "9%          -0.666978\n",
       "50%         -0.353659\n",
       "max          4.927727\n",
       "Name: wealth_prediction, dtype: float64"
      ]
     },
     "execution_count": 840,
     "metadata": {},
     "output_type": "execute_result"
    }
   ],
   "source": [
    "predictions.describe(percentiles = [i / 100 for i in range(0,10) ])"
   ]
  },
  {
   "cell_type": "code",
   "execution_count": 791,
   "metadata": {},
   "outputs": [],
   "source": [
    "predictions = predictions.clip(lower=-0.92)"
   ]
  },
  {
   "cell_type": "markdown",
   "metadata": {},
   "source": [
    "We then add the predictions to the `correpondance_table`. The images that don't correpond to any cluster (are not in useful_indexes, and therefor have not have had their features computed) are assumed to have the minimal wealth index of -0.92 (most of it is in wild nature and national parks)"
   ]
  },
  {
   "cell_type": "code",
   "execution_count": 793,
   "metadata": {},
   "outputs": [],
   "source": [
    "correspondance_table = pd.concat([correspondance_table.drop('wealth_prediction', axis = 1), \n",
    "                                  predictions], \n",
    "                                 axis = 1)"
   ]
  },
  {
   "cell_type": "code",
   "execution_count": 795,
   "metadata": {},
   "outputs": [],
   "source": [
    "correspondance_table['wealth_prediction'] = correspondance_table.wealth_prediction.fillna(-0.92)"
   ]
  },
  {
   "cell_type": "code",
   "execution_count": 800,
   "metadata": {},
   "outputs": [],
   "source": [
    "correspondance_table[['lon', 'lat', 'lightness', 'wealth_prediction']].to_csv('weath_prediction_per_image.csv')"
   ]
  },
  {
   "cell_type": "markdown",
   "metadata": {},
   "source": [
    "## 9. Step back and interpret your results\n",
    "\n",
    "Now that you are more intimately familiar with what is being done in the Jean et al. paper, provide some intelligent/critical commentary on what you think of the overall method. If you were going to set about predicting wealth from satellite imagery, is there anything you would do differently, or do you think the recipe established in the paper is as good as can be? Would you trust the maps you've generated, if you needed to use them for a research project or to make policy recommendations? What do you think the limits of this approach are?"
   ]
  },
  {
   "cell_type": "markdown",
   "metadata": {},
   "source": [
    "\n",
    "*Replace this section with your observations and interpretation*\n"
   ]
  }
 ],
 "metadata": {
  "anaconda-cloud": {},
  "kernelspec": {
   "display_name": "Python 3",
   "language": "python",
   "name": "python3"
  },
  "language_info": {
   "codemirror_mode": {
    "name": "ipython",
    "version": 3
   },
   "file_extension": ".py",
   "mimetype": "text/x-python",
   "name": "python",
   "nbconvert_exporter": "python",
   "pygments_lexer": "ipython3",
   "version": "3.7.1"
  }
 },
 "nbformat": 4,
 "nbformat_minor": 1
}
